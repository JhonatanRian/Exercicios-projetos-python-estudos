{
 "cells": [
  {
   "cell_type": "code",
   "execution_count": 2,
   "id": "b2cadf39",
   "metadata": {},
   "outputs": [],
   "source": [
    "import requests\n",
    "from selenium import webdriver\n",
    "from random import randint"
   ]
  },
  {
   "cell_type": "code",
   "execution_count": 10,
   "id": "d60e1122",
   "metadata": {},
   "outputs": [],
   "source": [
    "px = {\n",
    "    'HTTPS':'96.95.164.41:3128',\n",
    "    'HTTP':'43.250.127.98:9001',\n",
    "    'HTTPS':'139.99.99.165:8000',\n",
    "    'HTTPS':'51.79.144.52:8000',\n",
    "    'HTTP':'202.212.123.44:80',\n",
    "    'HTTP':'51.91.157.66:80',\n",
    "    'HTTPS':'51.79.144.52:8080',\n",
    "    'HTTPS':'52.183.8.192:3128',\n",
    "    'HTTPS':'159.192.138.170:8080',\n",
    "    'HTTPS':'140.227.69.170:6000',\n",
    "    'HTTP':'47.75.90.57:80',\n",
    "    'HTTP':'209.141.56.127:80',\n",
    "    'HTTP':'77.236.247.97:1256',\n",
    "    'HTTP':'182.16.242.4:8080',\n",
    "    'HTTP':'201.144.14.229:53281',\n",
    "    'HTTP':'43.255.113.232:82',\n",
    "    'HTTP':'118.140.160.85:80',\n",
    "    'HTTP':'118.140.160.84:80',\n",
    "    'HTTP':'194.71.227.107:8060',\n",
    "    'HTTPS':'139.99.99.165:8080',\n",
    "    'HTTP':'209.141.56.127:80',\n",
    "    'HTTP':'152.67.204.155:80',\n",
    "    'HTTP':'218.252.244.104:80',\n",
    "    'HTTPS':'140.227.211.47:8080',\n",
    "    'HTTP':'112.109.20.238:80',\n",
    "    'HTTP':'176.32.185.22:8080',\n",
    "    'HTTPS':'36.66.19.10:8080'\n",
    "}\n",
    "header = {\n",
    "    \"user-agent\": \"Mozilla/5.0 (X11; Linux x86_64) AppleWebKit/537.36 (KHTML, like Gecko) Chrome/94.0.4606.71 Safari/537.36\"\n",
    "}\n",
    "url = \"https://cnpj.biz/procura/conselho de pastores \"\n",
    "cidade = \"Votuporanga\"\n",
    "PROXY = \"51.68.207.814:443\"\n",
    "web_op = webdriver.FirefoxOptions()\n",
    "web_op.add_argument(f'--proxy-server={PROXY}')"
   ]
  },
  {
   "cell_type": "code",
   "execution_count": 4,
   "id": "3870a2da",
   "metadata": {},
   "outputs": [],
   "source": [
    " driver = webdriver.Firefox()"
   ]
  },
  {
   "cell_type": "code",
   "execution_count": 1,
   "id": "e2956e46",
   "metadata": {},
   "outputs": [],
   "source": [
    "def gera_cnpj(data: list) -> str:\n",
    "    \"\"\"\n",
    "    Retorna uma string sem caracter; \n",
    "    usada no \"get_paths\"\n",
    "    \"\"\"\n",
    "    cnpj = data[1]\n",
    "    resulte: str = \"\".join(c for c in cnpj if c.isalnum())\n",
    "    return resulte"
   ]
  },
  {
   "cell_type": "code",
   "execution_count": 12,
   "id": "9dafe994",
   "metadata": {},
   "outputs": [],
   "source": [
    "def get_paths(cidade: str) -> list:\n",
    "    \"\"\"\n",
    "    Retorna os cpfs achados na pesquisa para depois usar como caminho no requests\n",
    "    \"\"\"\n",
    "    url: str = \"https://cnpj.biz/procura/conselho de pastores \"\n",
    "    end: list = list() # lista que será retornada\n",
    "    driver =  webdriver.Firefox(options=web_op)\n",
    "    driver.delete_all_cookies()\n",
    "    driver.get(url+cidade)\n",
    "    elemen: webdriver = driver.find_elements_by_tag_name(\"a\")\n",
    "        \n",
    "    for element in elemen:\n",
    "        text_tag: str = ((element.text).split())\n",
    "        if text_tag[0] == \"CNPJ:\":\n",
    "            path: str = gera_cnpj(text_tag)\n",
    "            end.append(path)\n",
    "    return end"
   ]
  },
  {
   "cell_type": "code",
   "execution_count": 13,
   "id": "bfa1cc11",
   "metadata": {},
   "outputs": [
    {
     "data": {
      "text/plain": [
       "['08961027000152']"
      ]
     },
     "execution_count": 13,
     "metadata": {},
     "output_type": "execute_result"
    }
   ],
   "source": [
    "get_paths(cidade)"
   ]
  },
  {
   "cell_type": "code",
   "execution_count": null,
   "id": "02952445",
   "metadata": {},
   "outputs": [],
   "source": []
  }
 ],
 "metadata": {
  "kernelspec": {
   "display_name": "Python 3",
   "language": "python",
   "name": "python3"
  },
  "language_info": {
   "codemirror_mode": {
    "name": "ipython",
    "version": 3
   },
   "file_extension": ".py",
   "mimetype": "text/x-python",
   "name": "python",
   "nbconvert_exporter": "python",
   "pygments_lexer": "ipython3",
   "version": "3.8.8"
  }
 },
 "nbformat": 4,
 "nbformat_minor": 5
}
