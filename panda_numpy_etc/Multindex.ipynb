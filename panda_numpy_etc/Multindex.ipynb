{
 "cells": [
  {
   "cell_type": "code",
   "execution_count": 2,
   "id": "709a64bc",
   "metadata": {},
   "outputs": [],
   "source": [
    "import pandas as pd\n",
    "import numpy as np"
   ]
  },
  {
   "cell_type": "code",
   "execution_count": 3,
   "id": "fb8f0896",
   "metadata": {},
   "outputs": [],
   "source": [
    "lista = [[\"Brasil\", \"Brasil\", \"Brasil\", \"Argentina\", \"Argentina\", \"Argentina\"], [2017, 2018, 2019, 2017, 2018, 2019]]"
   ]
  },
  {
   "cell_type": "code",
   "execution_count": 10,
   "id": "26e798e8",
   "metadata": {},
   "outputs": [],
   "source": [
    "tuplas = zip(lista[0], lista[1])\n",
    "# Ou\n",
    "tuplas = zip(*lista)"
   ]
  },
  {
   "cell_type": "code",
   "execution_count": 11,
   "id": "8cdf7c35",
   "metadata": {},
   "outputs": [],
   "source": [
    "tuplas = list(tuplas)"
   ]
  },
  {
   "cell_type": "code",
   "execution_count": 12,
   "id": "8cbc0e8a",
   "metadata": {},
   "outputs": [
    {
     "data": {
      "text/plain": [
       "[('Brasil', 2017),\n",
       " ('Brasil', 2018),\n",
       " ('Brasil', 2019),\n",
       " ('Argentina', 2017),\n",
       " ('Argentina', 2018),\n",
       " ('Argentina', 2019)]"
      ]
     },
     "execution_count": 12,
     "metadata": {},
     "output_type": "execute_result"
    }
   ],
   "source": [
    "tuplas"
   ]
  },
  {
   "cell_type": "code",
   "execution_count": 13,
   "id": "97a59692",
   "metadata": {},
   "outputs": [],
   "source": [
    "multi = pd.MultiIndex.from_tuples(tuplas)"
   ]
  },
  {
   "cell_type": "code",
   "execution_count": 14,
   "id": "02a78f75",
   "metadata": {},
   "outputs": [
    {
     "data": {
      "text/plain": [
       "MultiIndex([(   'Brasil', 2017),\n",
       "            (   'Brasil', 2018),\n",
       "            (   'Brasil', 2019),\n",
       "            ('Argentina', 2017),\n",
       "            ('Argentina', 2018),\n",
       "            ('Argentina', 2019)],\n",
       "           )"
      ]
     },
     "execution_count": 14,
     "metadata": {},
     "output_type": "execute_result"
    }
   ],
   "source": [
    "multi"
   ]
  },
  {
   "cell_type": "code",
   "execution_count": 16,
   "id": "3fa1cafa",
   "metadata": {},
   "outputs": [],
   "source": [
    "df1 = pd.DataFrame(data = np.random.randn(6,2), index=multi, columns=['EXP_TRIGO','EXP_ARROZ'])"
   ]
  },
  {
   "cell_type": "code",
   "execution_count": 17,
   "id": "5691d955",
   "metadata": {},
   "outputs": [
    {
     "data": {
      "text/html": [
       "<div>\n",
       "<style scoped>\n",
       "    .dataframe tbody tr th:only-of-type {\n",
       "        vertical-align: middle;\n",
       "    }\n",
       "\n",
       "    .dataframe tbody tr th {\n",
       "        vertical-align: top;\n",
       "    }\n",
       "\n",
       "    .dataframe thead th {\n",
       "        text-align: right;\n",
       "    }\n",
       "</style>\n",
       "<table border=\"1\" class=\"dataframe\">\n",
       "  <thead>\n",
       "    <tr style=\"text-align: right;\">\n",
       "      <th></th>\n",
       "      <th></th>\n",
       "      <th>EXP_TRIGO</th>\n",
       "      <th>EXP_ARROZ</th>\n",
       "    </tr>\n",
       "  </thead>\n",
       "  <tbody>\n",
       "    <tr>\n",
       "      <th rowspan=\"3\" valign=\"top\">Brasil</th>\n",
       "      <th>2017</th>\n",
       "      <td>-0.287514</td>\n",
       "      <td>-0.991418</td>\n",
       "    </tr>\n",
       "    <tr>\n",
       "      <th>2018</th>\n",
       "      <td>0.866166</td>\n",
       "      <td>1.653372</td>\n",
       "    </tr>\n",
       "    <tr>\n",
       "      <th>2019</th>\n",
       "      <td>-0.220883</td>\n",
       "      <td>1.136586</td>\n",
       "    </tr>\n",
       "    <tr>\n",
       "      <th rowspan=\"3\" valign=\"top\">Argentina</th>\n",
       "      <th>2017</th>\n",
       "      <td>-0.829945</td>\n",
       "      <td>0.624998</td>\n",
       "    </tr>\n",
       "    <tr>\n",
       "      <th>2018</th>\n",
       "      <td>0.105398</td>\n",
       "      <td>-0.786798</td>\n",
       "    </tr>\n",
       "    <tr>\n",
       "      <th>2019</th>\n",
       "      <td>0.423536</td>\n",
       "      <td>2.112106</td>\n",
       "    </tr>\n",
       "  </tbody>\n",
       "</table>\n",
       "</div>"
      ],
      "text/plain": [
       "                EXP_TRIGO  EXP_ARROZ\n",
       "Brasil    2017  -0.287514  -0.991418\n",
       "          2018   0.866166   1.653372\n",
       "          2019  -0.220883   1.136586\n",
       "Argentina 2017  -0.829945   0.624998\n",
       "          2018   0.105398  -0.786798\n",
       "          2019   0.423536   2.112106"
      ]
     },
     "execution_count": 17,
     "metadata": {},
     "output_type": "execute_result"
    }
   ],
   "source": [
    "df1"
   ]
  },
  {
   "cell_type": "code",
   "execution_count": 18,
   "id": "afd3f2eb",
   "metadata": {},
   "outputs": [],
   "source": [
    "df1.index.names = ['Pais', 'Ano']"
   ]
  },
  {
   "cell_type": "code",
   "execution_count": 19,
   "id": "e2a3dd7f",
   "metadata": {},
   "outputs": [
    {
     "data": {
      "text/html": [
       "<div>\n",
       "<style scoped>\n",
       "    .dataframe tbody tr th:only-of-type {\n",
       "        vertical-align: middle;\n",
       "    }\n",
       "\n",
       "    .dataframe tbody tr th {\n",
       "        vertical-align: top;\n",
       "    }\n",
       "\n",
       "    .dataframe thead th {\n",
       "        text-align: right;\n",
       "    }\n",
       "</style>\n",
       "<table border=\"1\" class=\"dataframe\">\n",
       "  <thead>\n",
       "    <tr style=\"text-align: right;\">\n",
       "      <th></th>\n",
       "      <th></th>\n",
       "      <th>EXP_TRIGO</th>\n",
       "      <th>EXP_ARROZ</th>\n",
       "    </tr>\n",
       "    <tr>\n",
       "      <th>Pais</th>\n",
       "      <th>Ano</th>\n",
       "      <th></th>\n",
       "      <th></th>\n",
       "    </tr>\n",
       "  </thead>\n",
       "  <tbody>\n",
       "    <tr>\n",
       "      <th rowspan=\"3\" valign=\"top\">Brasil</th>\n",
       "      <th>2017</th>\n",
       "      <td>-0.287514</td>\n",
       "      <td>-0.991418</td>\n",
       "    </tr>\n",
       "    <tr>\n",
       "      <th>2018</th>\n",
       "      <td>0.866166</td>\n",
       "      <td>1.653372</td>\n",
       "    </tr>\n",
       "    <tr>\n",
       "      <th>2019</th>\n",
       "      <td>-0.220883</td>\n",
       "      <td>1.136586</td>\n",
       "    </tr>\n",
       "    <tr>\n",
       "      <th rowspan=\"3\" valign=\"top\">Argentina</th>\n",
       "      <th>2017</th>\n",
       "      <td>-0.829945</td>\n",
       "      <td>0.624998</td>\n",
       "    </tr>\n",
       "    <tr>\n",
       "      <th>2018</th>\n",
       "      <td>0.105398</td>\n",
       "      <td>-0.786798</td>\n",
       "    </tr>\n",
       "    <tr>\n",
       "      <th>2019</th>\n",
       "      <td>0.423536</td>\n",
       "      <td>2.112106</td>\n",
       "    </tr>\n",
       "  </tbody>\n",
       "</table>\n",
       "</div>"
      ],
      "text/plain": [
       "                EXP_TRIGO  EXP_ARROZ\n",
       "Pais      Ano                       \n",
       "Brasil    2017  -0.287514  -0.991418\n",
       "          2018   0.866166   1.653372\n",
       "          2019  -0.220883   1.136586\n",
       "Argentina 2017  -0.829945   0.624998\n",
       "          2018   0.105398  -0.786798\n",
       "          2019   0.423536   2.112106"
      ]
     },
     "execution_count": 19,
     "metadata": {},
     "output_type": "execute_result"
    }
   ],
   "source": [
    "df1"
   ]
  },
  {
   "cell_type": "code",
   "execution_count": 20,
   "id": "e17c9e51",
   "metadata": {},
   "outputs": [],
   "source": [
    "# Encontrando valores"
   ]
  },
  {
   "cell_type": "code",
   "execution_count": 21,
   "id": "58ae7201",
   "metadata": {},
   "outputs": [
    {
     "data": {
      "text/plain": [
       "Pais       Ano \n",
       "Brasil     2017   -0.287514\n",
       "           2018    0.866166\n",
       "           2019   -0.220883\n",
       "Argentina  2017   -0.829945\n",
       "           2018    0.105398\n",
       "           2019    0.423536\n",
       "Name: EXP_TRIGO, dtype: float64"
      ]
     },
     "execution_count": 21,
     "metadata": {},
     "output_type": "execute_result"
    }
   ],
   "source": [
    "df1['EXP_TRIGO']"
   ]
  },
  {
   "cell_type": "code",
   "execution_count": 22,
   "id": "ff2bf126",
   "metadata": {},
   "outputs": [
    {
     "data": {
      "text/html": [
       "<div>\n",
       "<style scoped>\n",
       "    .dataframe tbody tr th:only-of-type {\n",
       "        vertical-align: middle;\n",
       "    }\n",
       "\n",
       "    .dataframe tbody tr th {\n",
       "        vertical-align: top;\n",
       "    }\n",
       "\n",
       "    .dataframe thead th {\n",
       "        text-align: right;\n",
       "    }\n",
       "</style>\n",
       "<table border=\"1\" class=\"dataframe\">\n",
       "  <thead>\n",
       "    <tr style=\"text-align: right;\">\n",
       "      <th></th>\n",
       "      <th>EXP_TRIGO</th>\n",
       "      <th>EXP_ARROZ</th>\n",
       "    </tr>\n",
       "    <tr>\n",
       "      <th>Ano</th>\n",
       "      <th></th>\n",
       "      <th></th>\n",
       "    </tr>\n",
       "  </thead>\n",
       "  <tbody>\n",
       "    <tr>\n",
       "      <th>2017</th>\n",
       "      <td>-0.287514</td>\n",
       "      <td>-0.991418</td>\n",
       "    </tr>\n",
       "    <tr>\n",
       "      <th>2018</th>\n",
       "      <td>0.866166</td>\n",
       "      <td>1.653372</td>\n",
       "    </tr>\n",
       "    <tr>\n",
       "      <th>2019</th>\n",
       "      <td>-0.220883</td>\n",
       "      <td>1.136586</td>\n",
       "    </tr>\n",
       "  </tbody>\n",
       "</table>\n",
       "</div>"
      ],
      "text/plain": [
       "      EXP_TRIGO  EXP_ARROZ\n",
       "Ano                       \n",
       "2017  -0.287514  -0.991418\n",
       "2018   0.866166   1.653372\n",
       "2019  -0.220883   1.136586"
      ]
     },
     "execution_count": 22,
     "metadata": {},
     "output_type": "execute_result"
    }
   ],
   "source": [
    "df1.loc['Brasil']"
   ]
  },
  {
   "cell_type": "code",
   "execution_count": 23,
   "id": "e4ec56ab",
   "metadata": {},
   "outputs": [
    {
     "data": {
      "text/html": [
       "<div>\n",
       "<style scoped>\n",
       "    .dataframe tbody tr th:only-of-type {\n",
       "        vertical-align: middle;\n",
       "    }\n",
       "\n",
       "    .dataframe tbody tr th {\n",
       "        vertical-align: top;\n",
       "    }\n",
       "\n",
       "    .dataframe thead th {\n",
       "        text-align: right;\n",
       "    }\n",
       "</style>\n",
       "<table border=\"1\" class=\"dataframe\">\n",
       "  <thead>\n",
       "    <tr style=\"text-align: right;\">\n",
       "      <th></th>\n",
       "      <th>EXP_TRIGO</th>\n",
       "      <th>EXP_ARROZ</th>\n",
       "    </tr>\n",
       "    <tr>\n",
       "      <th>Pais</th>\n",
       "      <th></th>\n",
       "      <th></th>\n",
       "    </tr>\n",
       "  </thead>\n",
       "  <tbody>\n",
       "    <tr>\n",
       "      <th>Brasil</th>\n",
       "      <td>-0.287514</td>\n",
       "      <td>-0.991418</td>\n",
       "    </tr>\n",
       "    <tr>\n",
       "      <th>Argentina</th>\n",
       "      <td>-0.829945</td>\n",
       "      <td>0.624998</td>\n",
       "    </tr>\n",
       "  </tbody>\n",
       "</table>\n",
       "</div>"
      ],
      "text/plain": [
       "           EXP_TRIGO  EXP_ARROZ\n",
       "Pais                           \n",
       "Brasil     -0.287514  -0.991418\n",
       "Argentina  -0.829945   0.624998"
      ]
     },
     "execution_count": 23,
     "metadata": {},
     "output_type": "execute_result"
    }
   ],
   "source": [
    "df1.xs(2017, level=1)"
   ]
  },
  {
   "cell_type": "code",
   "execution_count": 24,
   "id": "832b9b5e",
   "metadata": {},
   "outputs": [
    {
     "data": {
      "text/html": [
       "<div>\n",
       "<style scoped>\n",
       "    .dataframe tbody tr th:only-of-type {\n",
       "        vertical-align: middle;\n",
       "    }\n",
       "\n",
       "    .dataframe tbody tr th {\n",
       "        vertical-align: top;\n",
       "    }\n",
       "\n",
       "    .dataframe thead th {\n",
       "        text-align: right;\n",
       "    }\n",
       "</style>\n",
       "<table border=\"1\" class=\"dataframe\">\n",
       "  <thead>\n",
       "    <tr style=\"text-align: right;\">\n",
       "      <th></th>\n",
       "      <th></th>\n",
       "      <th>EXP_TRIGO</th>\n",
       "      <th>EXP_ARROZ</th>\n",
       "    </tr>\n",
       "    <tr>\n",
       "      <th>Pais</th>\n",
       "      <th>Ano</th>\n",
       "      <th></th>\n",
       "      <th></th>\n",
       "    </tr>\n",
       "  </thead>\n",
       "  <tbody>\n",
       "    <tr>\n",
       "      <th rowspan=\"2\" valign=\"top\">Brasil</th>\n",
       "      <th>2017</th>\n",
       "      <td>-0.287514</td>\n",
       "      <td>-0.991418</td>\n",
       "    </tr>\n",
       "    <tr>\n",
       "      <th>2018</th>\n",
       "      <td>0.866166</td>\n",
       "      <td>1.653372</td>\n",
       "    </tr>\n",
       "  </tbody>\n",
       "</table>\n",
       "</div>"
      ],
      "text/plain": [
       "             EXP_TRIGO  EXP_ARROZ\n",
       "Pais   Ano                       \n",
       "Brasil 2017  -0.287514  -0.991418\n",
       "       2018   0.866166   1.653372"
      ]
     },
     "execution_count": 24,
     "metadata": {},
     "output_type": "execute_result"
    }
   ],
   "source": [
    "df1[:2]"
   ]
  },
  {
   "cell_type": "code",
   "execution_count": 28,
   "id": "572d5d29",
   "metadata": {},
   "outputs": [
    {
     "data": {
      "text/html": [
       "<div>\n",
       "<style scoped>\n",
       "    .dataframe tbody tr th:only-of-type {\n",
       "        vertical-align: middle;\n",
       "    }\n",
       "\n",
       "    .dataframe tbody tr th {\n",
       "        vertical-align: top;\n",
       "    }\n",
       "\n",
       "    .dataframe thead th {\n",
       "        text-align: right;\n",
       "    }\n",
       "</style>\n",
       "<table border=\"1\" class=\"dataframe\">\n",
       "  <thead>\n",
       "    <tr style=\"text-align: right;\">\n",
       "      <th></th>\n",
       "      <th></th>\n",
       "      <th>EXP_TRIGO</th>\n",
       "      <th>EXP_ARROZ</th>\n",
       "    </tr>\n",
       "    <tr>\n",
       "      <th>Pais</th>\n",
       "      <th>Ano</th>\n",
       "      <th></th>\n",
       "      <th></th>\n",
       "    </tr>\n",
       "  </thead>\n",
       "  <tbody>\n",
       "    <tr>\n",
       "      <th rowspan=\"3\" valign=\"top\">Brasil</th>\n",
       "      <th>2017</th>\n",
       "      <td>-0.287514</td>\n",
       "      <td>-0.991418</td>\n",
       "    </tr>\n",
       "    <tr>\n",
       "      <th>2018</th>\n",
       "      <td>0.866166</td>\n",
       "      <td>1.653372</td>\n",
       "    </tr>\n",
       "    <tr>\n",
       "      <th>2019</th>\n",
       "      <td>-0.220883</td>\n",
       "      <td>1.136586</td>\n",
       "    </tr>\n",
       "    <tr>\n",
       "      <th rowspan=\"3\" valign=\"top\">Argentina</th>\n",
       "      <th>2017</th>\n",
       "      <td>-0.829945</td>\n",
       "      <td>0.624998</td>\n",
       "    </tr>\n",
       "    <tr>\n",
       "      <th>2018</th>\n",
       "      <td>0.105398</td>\n",
       "      <td>-0.786798</td>\n",
       "    </tr>\n",
       "    <tr>\n",
       "      <th>2019</th>\n",
       "      <td>0.423536</td>\n",
       "      <td>2.112106</td>\n",
       "    </tr>\n",
       "  </tbody>\n",
       "</table>\n",
       "</div>"
      ],
      "text/plain": [
       "                EXP_TRIGO  EXP_ARROZ\n",
       "Pais      Ano                       \n",
       "Brasil    2017  -0.287514  -0.991418\n",
       "          2018   0.866166   1.653372\n",
       "          2019  -0.220883   1.136586\n",
       "Argentina 2017  -0.829945   0.624998\n",
       "          2018   0.105398  -0.786798\n",
       "          2019   0.423536   2.112106"
      ]
     },
     "execution_count": 28,
     "metadata": {},
     "output_type": "execute_result"
    }
   ],
   "source": [
    "df1[['EXP_TRIGO','EXP_ARROZ']]"
   ]
  },
  {
   "cell_type": "code",
   "execution_count": 29,
   "id": "abbd6190",
   "metadata": {},
   "outputs": [],
   "source": [
    "# Vendo de outra maneira "
   ]
  },
  {
   "cell_type": "code",
   "execution_count": 30,
   "id": "e45ef74c",
   "metadata": {},
   "outputs": [],
   "source": [
    "df2 = df1.unstack()"
   ]
  },
  {
   "cell_type": "code",
   "execution_count": 31,
   "id": "6b0b802b",
   "metadata": {},
   "outputs": [
    {
     "data": {
      "text/html": [
       "<div>\n",
       "<style scoped>\n",
       "    .dataframe tbody tr th:only-of-type {\n",
       "        vertical-align: middle;\n",
       "    }\n",
       "\n",
       "    .dataframe tbody tr th {\n",
       "        vertical-align: top;\n",
       "    }\n",
       "\n",
       "    .dataframe thead tr th {\n",
       "        text-align: left;\n",
       "    }\n",
       "\n",
       "    .dataframe thead tr:last-of-type th {\n",
       "        text-align: right;\n",
       "    }\n",
       "</style>\n",
       "<table border=\"1\" class=\"dataframe\">\n",
       "  <thead>\n",
       "    <tr>\n",
       "      <th></th>\n",
       "      <th colspan=\"3\" halign=\"left\">EXP_TRIGO</th>\n",
       "      <th colspan=\"3\" halign=\"left\">EXP_ARROZ</th>\n",
       "    </tr>\n",
       "    <tr>\n",
       "      <th>Ano</th>\n",
       "      <th>2017</th>\n",
       "      <th>2018</th>\n",
       "      <th>2019</th>\n",
       "      <th>2017</th>\n",
       "      <th>2018</th>\n",
       "      <th>2019</th>\n",
       "    </tr>\n",
       "    <tr>\n",
       "      <th>Pais</th>\n",
       "      <th></th>\n",
       "      <th></th>\n",
       "      <th></th>\n",
       "      <th></th>\n",
       "      <th></th>\n",
       "      <th></th>\n",
       "    </tr>\n",
       "  </thead>\n",
       "  <tbody>\n",
       "    <tr>\n",
       "      <th>Argentina</th>\n",
       "      <td>-0.829945</td>\n",
       "      <td>0.105398</td>\n",
       "      <td>0.423536</td>\n",
       "      <td>0.624998</td>\n",
       "      <td>-0.786798</td>\n",
       "      <td>2.112106</td>\n",
       "    </tr>\n",
       "    <tr>\n",
       "      <th>Brasil</th>\n",
       "      <td>-0.287514</td>\n",
       "      <td>0.866166</td>\n",
       "      <td>-0.220883</td>\n",
       "      <td>-0.991418</td>\n",
       "      <td>1.653372</td>\n",
       "      <td>1.136586</td>\n",
       "    </tr>\n",
       "  </tbody>\n",
       "</table>\n",
       "</div>"
      ],
      "text/plain": [
       "          EXP_TRIGO                     EXP_ARROZ                    \n",
       "Ano            2017      2018      2019      2017      2018      2019\n",
       "Pais                                                                 \n",
       "Argentina -0.829945  0.105398  0.423536  0.624998 -0.786798  2.112106\n",
       "Brasil    -0.287514  0.866166 -0.220883 -0.991418  1.653372  1.136586"
      ]
     },
     "execution_count": 31,
     "metadata": {},
     "output_type": "execute_result"
    }
   ],
   "source": [
    "df2"
   ]
  },
  {
   "cell_type": "code",
   "execution_count": null,
   "id": "59b1c0ef",
   "metadata": {},
   "outputs": [],
   "source": []
  }
 ],
 "metadata": {
  "kernelspec": {
   "display_name": "Python 3",
   "language": "python",
   "name": "python3"
  },
  "language_info": {
   "codemirror_mode": {
    "name": "ipython",
    "version": 3
   },
   "file_extension": ".py",
   "mimetype": "text/x-python",
   "name": "python",
   "nbconvert_exporter": "python",
   "pygments_lexer": "ipython3",
   "version": "3.8.8"
  }
 },
 "nbformat": 4,
 "nbformat_minor": 5
}
