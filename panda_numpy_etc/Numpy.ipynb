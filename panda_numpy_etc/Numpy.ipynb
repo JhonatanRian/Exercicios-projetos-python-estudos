{
 "cells": [
  {
   "cell_type": "code",
   "execution_count": 1,
   "id": "0c301ccf",
   "metadata": {},
   "outputs": [],
   "source": [
    "import numpy as np"
   ]
  },
  {
   "cell_type": "code",
   "execution_count": 2,
   "id": "9ebfdffe",
   "metadata": {},
   "outputs": [],
   "source": [
    "#array aparti de uma lista"
   ]
  },
  {
   "cell_type": "code",
   "execution_count": 3,
   "id": "58b88c60",
   "metadata": {},
   "outputs": [],
   "source": [
    "qtde = [2,5,10,20,35]\n",
    "custo = [100, 150, 450, 320, 195]"
   ]
  },
  {
   "cell_type": "code",
   "execution_count": 4,
   "id": "76154119",
   "metadata": {},
   "outputs": [],
   "source": [
    "arr1 = np.array(qtde)\n",
    "arr2  = np.array(custo)"
   ]
  },
  {
   "cell_type": "code",
   "execution_count": 7,
   "id": "4312dd61",
   "metadata": {},
   "outputs": [],
   "source": [
    "estoque = arr1*arr2"
   ]
  },
  {
   "cell_type": "code",
   "execution_count": null,
   "id": "e603582b",
   "metadata": {},
   "outputs": [],
   "source": []
  }
 ],
 "metadata": {
  "kernelspec": {
   "display_name": "Python 3",
   "language": "python",
   "name": "python3"
  },
  "language_info": {
   "codemirror_mode": {
    "name": "ipython",
    "version": 3
   },
   "file_extension": ".py",
   "mimetype": "text/x-python",
   "name": "python",
   "nbconvert_exporter": "python",
   "pygments_lexer": "ipython3",
   "version": "3.8.8"
  }
 },
 "nbformat": 4,
 "nbformat_minor": 5
}
