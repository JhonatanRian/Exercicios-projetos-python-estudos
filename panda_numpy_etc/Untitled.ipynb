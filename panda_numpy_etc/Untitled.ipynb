{
 "cells": [
  {
   "cell_type": "code",
   "execution_count": 1,
   "id": "54156610",
   "metadata": {},
   "outputs": [],
   "source": [
    "import numpy as np"
   ]
  },
  {
   "cell_type": "code",
   "execution_count": 2,
   "id": "ef762e94",
   "metadata": {},
   "outputs": [],
   "source": [
    "#array unidimensional\n",
    "arr = np.arange(1, 11, dtype=int)"
   ]
  },
  {
   "cell_type": "code",
   "execution_count": 3,
   "id": "e1d5dd17",
   "metadata": {},
   "outputs": [
    {
     "data": {
      "text/plain": [
       "array([ 1,  2,  3,  4,  5,  6,  7,  8,  9, 10])"
      ]
     },
     "execution_count": 3,
     "metadata": {},
     "output_type": "execute_result"
    }
   ],
   "source": [
    "arr"
   ]
  },
  {
   "cell_type": "code",
   "execution_count": 4,
   "id": "83942f3a",
   "metadata": {},
   "outputs": [],
   "source": [
    "# Indexação de arrays unidimensionais\n"
   ]
  },
  {
   "cell_type": "code",
   "execution_count": 5,
   "id": "59e4bcb5",
   "metadata": {},
   "outputs": [
    {
     "data": {
      "text/plain": [
       "5"
      ]
     },
     "execution_count": 5,
     "metadata": {},
     "output_type": "execute_result"
    }
   ],
   "source": [
    "arr[4]"
   ]
  },
  {
   "cell_type": "code",
   "execution_count": 6,
   "id": "c7b08dfe",
   "metadata": {},
   "outputs": [
    {
     "data": {
      "text/plain": [
       "array([3, 4])"
      ]
     },
     "execution_count": 6,
     "metadata": {},
     "output_type": "execute_result"
    }
   ],
   "source": [
    "arr[2:4]"
   ]
  },
  {
   "cell_type": "code",
   "execution_count": 7,
   "id": "b3013bdf",
   "metadata": {},
   "outputs": [
    {
     "data": {
      "text/plain": [
       "array([3, 4, 5])"
      ]
     },
     "execution_count": 7,
     "metadata": {},
     "output_type": "execute_result"
    }
   ],
   "source": [
    "arr[2:5]"
   ]
  },
  {
   "cell_type": "code",
   "execution_count": 8,
   "id": "5415845a",
   "metadata": {},
   "outputs": [
    {
     "data": {
      "text/plain": [
       "array([1, 2, 3, 4, 5])"
      ]
     },
     "execution_count": 8,
     "metadata": {},
     "output_type": "execute_result"
    }
   ],
   "source": [
    "arr[:5]"
   ]
  },
  {
   "cell_type": "code",
   "execution_count": 9,
   "id": "22fd7983",
   "metadata": {},
   "outputs": [
    {
     "data": {
      "text/plain": [
       "array([ 4,  5,  6,  7,  8,  9, 10])"
      ]
     },
     "execution_count": 9,
     "metadata": {},
     "output_type": "execute_result"
    }
   ],
   "source": [
    "arr[3:]"
   ]
  },
  {
   "cell_type": "code",
   "execution_count": 10,
   "id": "b9f12a9f",
   "metadata": {},
   "outputs": [],
   "source": [
    "# Indexação de arrays bidimensionais"
   ]
  },
  {
   "cell_type": "code",
   "execution_count": 12,
   "id": "03b47ac8",
   "metadata": {},
   "outputs": [],
   "source": [
    "arr2 = np.random.randint(10,50,size=(3,3))"
   ]
  },
  {
   "cell_type": "code",
   "execution_count": 13,
   "id": "ce7663e8",
   "metadata": {},
   "outputs": [
    {
     "data": {
      "text/plain": [
       "array([[33, 11, 20],\n",
       "       [38, 36, 20],\n",
       "       [25, 37, 15]])"
      ]
     },
     "execution_count": 13,
     "metadata": {},
     "output_type": "execute_result"
    }
   ],
   "source": [
    "arr2"
   ]
  },
  {
   "cell_type": "code",
   "execution_count": 14,
   "id": "4cef7088",
   "metadata": {},
   "outputs": [
    {
     "data": {
      "text/plain": [
       "36"
      ]
     },
     "execution_count": 14,
     "metadata": {},
     "output_type": "execute_result"
    }
   ],
   "source": [
    "arr2[1][1]"
   ]
  },
  {
   "cell_type": "code",
   "execution_count": 15,
   "id": "8f5aaaed",
   "metadata": {},
   "outputs": [
    {
     "data": {
      "text/plain": [
       "15"
      ]
     },
     "execution_count": 15,
     "metadata": {},
     "output_type": "execute_result"
    }
   ],
   "source": [
    "arr2[2][2]"
   ]
  },
  {
   "cell_type": "code",
   "execution_count": 16,
   "id": "0f22e233",
   "metadata": {},
   "outputs": [
    {
     "data": {
      "text/plain": [
       "array([25, 37])"
      ]
     },
     "execution_count": 16,
     "metadata": {},
     "output_type": "execute_result"
    }
   ],
   "source": [
    "arr2[2][0:2]"
   ]
  },
  {
   "cell_type": "code",
   "execution_count": 19,
   "id": "ec4ad66c",
   "metadata": {},
   "outputs": [],
   "source": [
    "arr3 = np.random.randint(1, 101,size=(10,10))"
   ]
  },
  {
   "cell_type": "code",
   "execution_count": 20,
   "id": "daf3730f",
   "metadata": {},
   "outputs": [
    {
     "data": {
      "text/plain": [
       "array([[54, 11, 50, 59,  1, 18, 52, 56, 94, 22],\n",
       "       [49, 62, 23, 75,  8, 72, 60, 83, 75, 70],\n",
       "       [ 2, 33, 92, 50, 23,  2, 51, 89,  6, 51],\n",
       "       [11, 91,  2,  3, 54, 88, 77, 30, 87, 11],\n",
       "       [84, 72, 29, 15, 66, 33, 92, 92, 82, 53],\n",
       "       [61, 27, 98,  9, 18, 84, 39, 48, 36, 76],\n",
       "       [ 3, 90, 69, 48,  5, 73, 47, 40,  5, 33],\n",
       "       [ 3, 41, 56, 37, 65, 44, 80, 34, 97, 18],\n",
       "       [81, 38, 85, 38, 69, 11, 42, 34, 51, 53],\n",
       "       [73, 45, 32, 25, 80, 64, 35, 24, 41, 82]])"
      ]
     },
     "execution_count": 20,
     "metadata": {},
     "output_type": "execute_result"
    }
   ],
   "source": [
    "arr3"
   ]
  },
  {
   "cell_type": "code",
   "execution_count": 21,
   "id": "13595b40",
   "metadata": {},
   "outputs": [
    {
     "data": {
      "text/plain": [
       "array([11, 91,  2,  3, 54, 88, 77, 30, 87, 11])"
      ]
     },
     "execution_count": 21,
     "metadata": {},
     "output_type": "execute_result"
    }
   ],
   "source": [
    "arr3[3][:]"
   ]
  },
  {
   "cell_type": "code",
   "execution_count": 25,
   "id": "ebd90c5c",
   "metadata": {},
   "outputs": [
    {
     "data": {
      "text/plain": [
       "array([[84, 72, 29, 15, 66, 33, 92, 92, 82, 53],\n",
       "       [61, 27, 98,  9, 18, 84, 39, 48, 36, 76],\n",
       "       [ 3, 90, 69, 48,  5, 73, 47, 40,  5, 33]])"
      ]
     },
     "execution_count": 25,
     "metadata": {},
     "output_type": "execute_result"
    }
   ],
   "source": [
    "arr3[4:7][:]"
   ]
  },
  {
   "cell_type": "code",
   "execution_count": 28,
   "id": "5e459c09",
   "metadata": {},
   "outputs": [
    {
     "data": {
      "text/plain": [
       "array([[73, 47, 40]])"
      ]
     },
     "execution_count": 28,
     "metadata": {},
     "output_type": "execute_result"
    }
   ],
   "source": [
    "arr3[6:7,5:8]"
   ]
  },
  {
   "cell_type": "code",
   "execution_count": 31,
   "id": "d4f14b82",
   "metadata": {},
   "outputs": [
    {
     "data": {
      "text/plain": [
       "array([[ 3, 90, 69, 48,  5],\n",
       "       [ 3, 41, 56, 37, 65]])"
      ]
     },
     "execution_count": 31,
     "metadata": {},
     "output_type": "execute_result"
    }
   ],
   "source": [
    "# array[linhas,colunas]\n",
    "arr3[6:8,0:5]"
   ]
  },
  {
   "cell_type": "code",
   "execution_count": 32,
   "id": "c3d553dd",
   "metadata": {},
   "outputs": [],
   "source": [
    "#colunas.index = 0, 1, 2, 3, 4\n",
    "#linhas.index = 6, 7"
   ]
  },
  {
   "cell_type": "code",
   "execution_count": null,
   "id": "e164c8a2",
   "metadata": {},
   "outputs": [],
   "source": []
  }
 ],
 "metadata": {
  "kernelspec": {
   "display_name": "Python 3",
   "language": "python",
   "name": "python3"
  },
  "language_info": {
   "codemirror_mode": {
    "name": "ipython",
    "version": 3
   },
   "file_extension": ".py",
   "mimetype": "text/x-python",
   "name": "python",
   "nbconvert_exporter": "python",
   "pygments_lexer": "ipython3",
   "version": "3.8.8"
  }
 },
 "nbformat": 4,
 "nbformat_minor": 5
}
