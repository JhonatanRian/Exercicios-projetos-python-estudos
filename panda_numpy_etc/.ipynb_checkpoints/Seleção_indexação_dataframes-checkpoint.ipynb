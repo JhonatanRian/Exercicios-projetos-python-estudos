{
 "cells": [
  {
   "cell_type": "code",
   "execution_count": 24,
   "id": "179a039d",
   "metadata": {},
   "outputs": [],
   "source": [
    "import pandas as pd\n",
    "import numpy as np\n",
    "np.random.seed(100)"
   ]
  },
  {
   "cell_type": "code",
   "execution_count": 25,
   "id": "2d6c203e",
   "metadata": {},
   "outputs": [],
   "source": [
    "indices = ['janeiro', 'março', 'maio', 'julho', 'agosto', 'outubro', 'novembro']"
   ]
  },
  {
   "cell_type": "code",
   "execution_count": 26,
   "id": "6606b533",
   "metadata": {},
   "outputs": [],
   "source": [
    "colunas = np.arange(1,32)"
   ]
  },
  {
   "cell_type": "code",
   "execution_count": 27,
   "id": "9e2d4bdc",
   "metadata": {},
   "outputs": [
    {
     "data": {
      "text/plain": [
       "array([ 1,  2,  3,  4,  5,  6,  7,  8,  9, 10, 11, 12, 13, 14, 15, 16, 17,\n",
       "       18, 19, 20, 21, 22, 23, 24, 25, 26, 27, 28, 29, 30, 31])"
      ]
     },
     "execution_count": 27,
     "metadata": {},
     "output_type": "execute_result"
    }
   ],
   "source": [
    "colunas"
   ]
  },
  {
   "cell_type": "code",
   "execution_count": 28,
   "id": "46ef7118",
   "metadata": {},
   "outputs": [],
   "source": [
    "dados = np.random.randint(492,2050, size=(7,31))"
   ]
  },
  {
   "cell_type": "code",
   "execution_count": 29,
   "id": "df6fec9a",
   "metadata": {},
   "outputs": [
    {
     "data": {
      "text/plain": [
       "array([[2036, 1284,  571,  842,  545, 2042, 1294, 1501, 1244,  772, 1744,\n",
       "        1832, 1404, 2023, 1609,  578,  878,  907, 1389, 1657, 1249, 1104,\n",
       "        1520, 1095, 1327,  627,  541, 1947,  809, 1274, 1459],\n",
       "       [1255, 1852,  494, 1381, 1109,  970, 1919,  555, 1697,  775, 1754,\n",
       "        1885, 1436, 1819, 1298,  664,  766,  684, 1444, 1422,  929,  765,\n",
       "        2041, 1110, 1546,  509, 1569,  560,  980, 1863,  967],\n",
       "       [1185, 1338, 1516,  505, 1701, 1976,  854,  623, 1074, 1728,  886,\n",
       "        1731, 2018,  987, 1135, 1365, 1692, 1696,  528, 1331,  530, 1730,\n",
       "        1610, 1230, 1686, 1344,  587, 1592,  806,  594, 1430],\n",
       "       [ 898, 1772, 1254,  718, 1407,  688,  938, 1310, 1968,  911,  899,\n",
       "        1257, 2037, 1436, 2012,  901, 1954,  754, 1638, 1702, 1811,  778,\n",
       "        1381, 1070,  735, 1412,  931,  765, 1305, 2001,  581],\n",
       "       [ 921, 1295, 1532, 2040, 1982, 1113, 1583,  712, 1739, 1280,  630,\n",
       "        1268,  965, 1204, 1930, 1505, 1865, 1379, 1048, 1761, 1573,  875,\n",
       "        1260, 1186, 1480, 1905, 1951,  838,  526,  943, 1354],\n",
       "       [1186, 1593,  704,  877, 1530, 1805,  640,  660, 1993,  934, 1288,\n",
       "        1214, 1994, 1006, 1067, 1373, 1646, 1731,  637, 1753, 1766,  969,\n",
       "        1228,  566, 1953, 1583, 1160, 1598, 1490, 1917, 1145],\n",
       "       [1085, 1377, 1285, 1710, 1147,  856,  614,  503, 1105, 1496,  530,\n",
       "        1315,  805,  579, 1183, 1246,  998, 1185, 1197, 1814,  664,  636,\n",
       "        1698,  675,  575,  994, 1872, 1252, 1250, 1505,  605]])"
      ]
     },
     "execution_count": 29,
     "metadata": {},
     "output_type": "execute_result"
    }
   ],
   "source": [
    "dados"
   ]
  },
  {
   "cell_type": "code",
   "execution_count": 30,
   "id": "50116a82",
   "metadata": {},
   "outputs": [],
   "source": [
    "df = pd.DataFrame(data=dados, index=indices, columns=colunas)"
   ]
  },
  {
   "cell_type": "code",
   "execution_count": 31,
   "id": "3db535f0",
   "metadata": {},
   "outputs": [
    {
     "data": {
      "text/html": [
       "<div>\n",
       "<style scoped>\n",
       "    .dataframe tbody tr th:only-of-type {\n",
       "        vertical-align: middle;\n",
       "    }\n",
       "\n",
       "    .dataframe tbody tr th {\n",
       "        vertical-align: top;\n",
       "    }\n",
       "\n",
       "    .dataframe thead th {\n",
       "        text-align: right;\n",
       "    }\n",
       "</style>\n",
       "<table border=\"1\" class=\"dataframe\">\n",
       "  <thead>\n",
       "    <tr style=\"text-align: right;\">\n",
       "      <th></th>\n",
       "      <th>1</th>\n",
       "      <th>2</th>\n",
       "      <th>3</th>\n",
       "      <th>4</th>\n",
       "      <th>5</th>\n",
       "      <th>6</th>\n",
       "      <th>7</th>\n",
       "      <th>8</th>\n",
       "      <th>9</th>\n",
       "      <th>10</th>\n",
       "      <th>...</th>\n",
       "      <th>22</th>\n",
       "      <th>23</th>\n",
       "      <th>24</th>\n",
       "      <th>25</th>\n",
       "      <th>26</th>\n",
       "      <th>27</th>\n",
       "      <th>28</th>\n",
       "      <th>29</th>\n",
       "      <th>30</th>\n",
       "      <th>31</th>\n",
       "    </tr>\n",
       "  </thead>\n",
       "  <tbody>\n",
       "    <tr>\n",
       "      <th>janeiro</th>\n",
       "      <td>2036</td>\n",
       "      <td>1284</td>\n",
       "      <td>571</td>\n",
       "      <td>842</td>\n",
       "      <td>545</td>\n",
       "      <td>2042</td>\n",
       "      <td>1294</td>\n",
       "      <td>1501</td>\n",
       "      <td>1244</td>\n",
       "      <td>772</td>\n",
       "      <td>...</td>\n",
       "      <td>1104</td>\n",
       "      <td>1520</td>\n",
       "      <td>1095</td>\n",
       "      <td>1327</td>\n",
       "      <td>627</td>\n",
       "      <td>541</td>\n",
       "      <td>1947</td>\n",
       "      <td>809</td>\n",
       "      <td>1274</td>\n",
       "      <td>1459</td>\n",
       "    </tr>\n",
       "    <tr>\n",
       "      <th>março</th>\n",
       "      <td>1255</td>\n",
       "      <td>1852</td>\n",
       "      <td>494</td>\n",
       "      <td>1381</td>\n",
       "      <td>1109</td>\n",
       "      <td>970</td>\n",
       "      <td>1919</td>\n",
       "      <td>555</td>\n",
       "      <td>1697</td>\n",
       "      <td>775</td>\n",
       "      <td>...</td>\n",
       "      <td>765</td>\n",
       "      <td>2041</td>\n",
       "      <td>1110</td>\n",
       "      <td>1546</td>\n",
       "      <td>509</td>\n",
       "      <td>1569</td>\n",
       "      <td>560</td>\n",
       "      <td>980</td>\n",
       "      <td>1863</td>\n",
       "      <td>967</td>\n",
       "    </tr>\n",
       "    <tr>\n",
       "      <th>maio</th>\n",
       "      <td>1185</td>\n",
       "      <td>1338</td>\n",
       "      <td>1516</td>\n",
       "      <td>505</td>\n",
       "      <td>1701</td>\n",
       "      <td>1976</td>\n",
       "      <td>854</td>\n",
       "      <td>623</td>\n",
       "      <td>1074</td>\n",
       "      <td>1728</td>\n",
       "      <td>...</td>\n",
       "      <td>1730</td>\n",
       "      <td>1610</td>\n",
       "      <td>1230</td>\n",
       "      <td>1686</td>\n",
       "      <td>1344</td>\n",
       "      <td>587</td>\n",
       "      <td>1592</td>\n",
       "      <td>806</td>\n",
       "      <td>594</td>\n",
       "      <td>1430</td>\n",
       "    </tr>\n",
       "    <tr>\n",
       "      <th>julho</th>\n",
       "      <td>898</td>\n",
       "      <td>1772</td>\n",
       "      <td>1254</td>\n",
       "      <td>718</td>\n",
       "      <td>1407</td>\n",
       "      <td>688</td>\n",
       "      <td>938</td>\n",
       "      <td>1310</td>\n",
       "      <td>1968</td>\n",
       "      <td>911</td>\n",
       "      <td>...</td>\n",
       "      <td>778</td>\n",
       "      <td>1381</td>\n",
       "      <td>1070</td>\n",
       "      <td>735</td>\n",
       "      <td>1412</td>\n",
       "      <td>931</td>\n",
       "      <td>765</td>\n",
       "      <td>1305</td>\n",
       "      <td>2001</td>\n",
       "      <td>581</td>\n",
       "    </tr>\n",
       "    <tr>\n",
       "      <th>agosto</th>\n",
       "      <td>921</td>\n",
       "      <td>1295</td>\n",
       "      <td>1532</td>\n",
       "      <td>2040</td>\n",
       "      <td>1982</td>\n",
       "      <td>1113</td>\n",
       "      <td>1583</td>\n",
       "      <td>712</td>\n",
       "      <td>1739</td>\n",
       "      <td>1280</td>\n",
       "      <td>...</td>\n",
       "      <td>875</td>\n",
       "      <td>1260</td>\n",
       "      <td>1186</td>\n",
       "      <td>1480</td>\n",
       "      <td>1905</td>\n",
       "      <td>1951</td>\n",
       "      <td>838</td>\n",
       "      <td>526</td>\n",
       "      <td>943</td>\n",
       "      <td>1354</td>\n",
       "    </tr>\n",
       "    <tr>\n",
       "      <th>outubro</th>\n",
       "      <td>1186</td>\n",
       "      <td>1593</td>\n",
       "      <td>704</td>\n",
       "      <td>877</td>\n",
       "      <td>1530</td>\n",
       "      <td>1805</td>\n",
       "      <td>640</td>\n",
       "      <td>660</td>\n",
       "      <td>1993</td>\n",
       "      <td>934</td>\n",
       "      <td>...</td>\n",
       "      <td>969</td>\n",
       "      <td>1228</td>\n",
       "      <td>566</td>\n",
       "      <td>1953</td>\n",
       "      <td>1583</td>\n",
       "      <td>1160</td>\n",
       "      <td>1598</td>\n",
       "      <td>1490</td>\n",
       "      <td>1917</td>\n",
       "      <td>1145</td>\n",
       "    </tr>\n",
       "    <tr>\n",
       "      <th>novembro</th>\n",
       "      <td>1085</td>\n",
       "      <td>1377</td>\n",
       "      <td>1285</td>\n",
       "      <td>1710</td>\n",
       "      <td>1147</td>\n",
       "      <td>856</td>\n",
       "      <td>614</td>\n",
       "      <td>503</td>\n",
       "      <td>1105</td>\n",
       "      <td>1496</td>\n",
       "      <td>...</td>\n",
       "      <td>636</td>\n",
       "      <td>1698</td>\n",
       "      <td>675</td>\n",
       "      <td>575</td>\n",
       "      <td>994</td>\n",
       "      <td>1872</td>\n",
       "      <td>1252</td>\n",
       "      <td>1250</td>\n",
       "      <td>1505</td>\n",
       "      <td>605</td>\n",
       "    </tr>\n",
       "  </tbody>\n",
       "</table>\n",
       "<p>7 rows × 31 columns</p>\n",
       "</div>"
      ],
      "text/plain": [
       "            1     2     3     4     5     6     7     8     9     10  ...  \\\n",
       "janeiro   2036  1284   571   842   545  2042  1294  1501  1244   772  ...   \n",
       "março     1255  1852   494  1381  1109   970  1919   555  1697   775  ...   \n",
       "maio      1185  1338  1516   505  1701  1976   854   623  1074  1728  ...   \n",
       "julho      898  1772  1254   718  1407   688   938  1310  1968   911  ...   \n",
       "agosto     921  1295  1532  2040  1982  1113  1583   712  1739  1280  ...   \n",
       "outubro   1186  1593   704   877  1530  1805   640   660  1993   934  ...   \n",
       "novembro  1085  1377  1285  1710  1147   856   614   503  1105  1496  ...   \n",
       "\n",
       "            22    23    24    25    26    27    28    29    30    31  \n",
       "janeiro   1104  1520  1095  1327   627   541  1947   809  1274  1459  \n",
       "março      765  2041  1110  1546   509  1569   560   980  1863   967  \n",
       "maio      1730  1610  1230  1686  1344   587  1592   806   594  1430  \n",
       "julho      778  1381  1070   735  1412   931   765  1305  2001   581  \n",
       "agosto     875  1260  1186  1480  1905  1951   838   526   943  1354  \n",
       "outubro    969  1228   566  1953  1583  1160  1598  1490  1917  1145  \n",
       "novembro   636  1698   675   575   994  1872  1252  1250  1505   605  \n",
       "\n",
       "[7 rows x 31 columns]"
      ]
     },
     "execution_count": 31,
     "metadata": {},
     "output_type": "execute_result"
    }
   ],
   "source": [
    "df"
   ]
  },
  {
   "cell_type": "markdown",
   "id": "81b9a15d",
   "metadata": {},
   "source": [
    "    df[coluna]\n",
    "    df[col1, col2, col3]\n",
    "    df[coluna][linha]\n",
    "    df[linha1:linha2]\n",
    "    df.loc[indice_linha,indice_coluna] df.loc['julho', 30]\n",
    "    df.iloc[indice_numerico_linha,indice-numerico_coluna] df.iloc[3,5]"
   ]
  },
  {
   "cell_type": "code",
   "execution_count": 33,
   "id": "400611be",
   "metadata": {},
   "outputs": [],
   "source": [
    "# Quanto vendeu no dia 10 de todos os meses?"
   ]
  },
  {
   "cell_type": "code",
   "execution_count": 34,
   "id": "c882e786",
   "metadata": {},
   "outputs": [
    {
     "data": {
      "text/plain": [
       "janeiro      772\n",
       "março        775\n",
       "maio        1728\n",
       "julho        911\n",
       "agosto      1280\n",
       "outubro      934\n",
       "novembro    1496\n",
       "Name: 10, dtype: int64"
      ]
     },
     "execution_count": 34,
     "metadata": {},
     "output_type": "execute_result"
    }
   ],
   "source": [
    "df[10]"
   ]
  },
  {
   "cell_type": "code",
   "execution_count": 38,
   "id": "d47c9e3a",
   "metadata": {},
   "outputs": [
    {
     "ename": "KeyError",
     "evalue": "'[0] not in index'",
     "output_type": "error",
     "traceback": [
      "\u001b[0;31m---------------------------------------------------------------------------\u001b[0m",
      "\u001b[0;31mKeyError\u001b[0m                                  Traceback (most recent call last)",
      "\u001b[0;32m<ipython-input-38-28740227d58d>\u001b[0m in \u001b[0;36m<module>\u001b[0;34m\u001b[0m\n\u001b[0;32m----> 1\u001b[0;31m \u001b[0mdf\u001b[0m\u001b[0;34m[\u001b[0m\u001b[0;34m[\u001b[0m\u001b[0;36m10\u001b[0m\u001b[0;34m,\u001b[0m\u001b[0;36m0\u001b[0m\u001b[0;34m,\u001b[0m \u001b[0;36m30\u001b[0m\u001b[0;34m]\u001b[0m\u001b[0;34m]\u001b[0m\u001b[0;34m\u001b[0m\u001b[0;34m\u001b[0m\u001b[0m\n\u001b[0m",
      "\u001b[0;32m~/anaconda3/lib/python3.8/site-packages/pandas/core/frame.py\u001b[0m in \u001b[0;36m__getitem__\u001b[0;34m(self, key)\u001b[0m\n\u001b[1;32m   3028\u001b[0m             \u001b[0;32mif\u001b[0m \u001b[0mis_iterator\u001b[0m\u001b[0;34m(\u001b[0m\u001b[0mkey\u001b[0m\u001b[0;34m)\u001b[0m\u001b[0;34m:\u001b[0m\u001b[0;34m\u001b[0m\u001b[0;34m\u001b[0m\u001b[0m\n\u001b[1;32m   3029\u001b[0m                 \u001b[0mkey\u001b[0m \u001b[0;34m=\u001b[0m \u001b[0mlist\u001b[0m\u001b[0;34m(\u001b[0m\u001b[0mkey\u001b[0m\u001b[0;34m)\u001b[0m\u001b[0;34m\u001b[0m\u001b[0;34m\u001b[0m\u001b[0m\n\u001b[0;32m-> 3030\u001b[0;31m             \u001b[0mindexer\u001b[0m \u001b[0;34m=\u001b[0m \u001b[0mself\u001b[0m\u001b[0;34m.\u001b[0m\u001b[0mloc\u001b[0m\u001b[0;34m.\u001b[0m\u001b[0m_get_listlike_indexer\u001b[0m\u001b[0;34m(\u001b[0m\u001b[0mkey\u001b[0m\u001b[0;34m,\u001b[0m \u001b[0maxis\u001b[0m\u001b[0;34m=\u001b[0m\u001b[0;36m1\u001b[0m\u001b[0;34m,\u001b[0m \u001b[0mraise_missing\u001b[0m\u001b[0;34m=\u001b[0m\u001b[0;32mTrue\u001b[0m\u001b[0;34m)\u001b[0m\u001b[0;34m[\u001b[0m\u001b[0;36m1\u001b[0m\u001b[0;34m]\u001b[0m\u001b[0;34m\u001b[0m\u001b[0;34m\u001b[0m\u001b[0m\n\u001b[0m\u001b[1;32m   3031\u001b[0m \u001b[0;34m\u001b[0m\u001b[0m\n\u001b[1;32m   3032\u001b[0m         \u001b[0;31m# take() does not accept boolean indexers\u001b[0m\u001b[0;34m\u001b[0m\u001b[0;34m\u001b[0m\u001b[0;34m\u001b[0m\u001b[0m\n",
      "\u001b[0;32m~/anaconda3/lib/python3.8/site-packages/pandas/core/indexing.py\u001b[0m in \u001b[0;36m_get_listlike_indexer\u001b[0;34m(self, key, axis, raise_missing)\u001b[0m\n\u001b[1;32m   1264\u001b[0m             \u001b[0mkeyarr\u001b[0m\u001b[0;34m,\u001b[0m \u001b[0mindexer\u001b[0m\u001b[0;34m,\u001b[0m \u001b[0mnew_indexer\u001b[0m \u001b[0;34m=\u001b[0m \u001b[0max\u001b[0m\u001b[0;34m.\u001b[0m\u001b[0m_reindex_non_unique\u001b[0m\u001b[0;34m(\u001b[0m\u001b[0mkeyarr\u001b[0m\u001b[0;34m)\u001b[0m\u001b[0;34m\u001b[0m\u001b[0;34m\u001b[0m\u001b[0m\n\u001b[1;32m   1265\u001b[0m \u001b[0;34m\u001b[0m\u001b[0m\n\u001b[0;32m-> 1266\u001b[0;31m         \u001b[0mself\u001b[0m\u001b[0;34m.\u001b[0m\u001b[0m_validate_read_indexer\u001b[0m\u001b[0;34m(\u001b[0m\u001b[0mkeyarr\u001b[0m\u001b[0;34m,\u001b[0m \u001b[0mindexer\u001b[0m\u001b[0;34m,\u001b[0m \u001b[0maxis\u001b[0m\u001b[0;34m,\u001b[0m \u001b[0mraise_missing\u001b[0m\u001b[0;34m=\u001b[0m\u001b[0mraise_missing\u001b[0m\u001b[0;34m)\u001b[0m\u001b[0;34m\u001b[0m\u001b[0;34m\u001b[0m\u001b[0m\n\u001b[0m\u001b[1;32m   1267\u001b[0m         \u001b[0;32mreturn\u001b[0m \u001b[0mkeyarr\u001b[0m\u001b[0;34m,\u001b[0m \u001b[0mindexer\u001b[0m\u001b[0;34m\u001b[0m\u001b[0;34m\u001b[0m\u001b[0m\n\u001b[1;32m   1268\u001b[0m \u001b[0;34m\u001b[0m\u001b[0m\n",
      "\u001b[0;32m~/anaconda3/lib/python3.8/site-packages/pandas/core/indexing.py\u001b[0m in \u001b[0;36m_validate_read_indexer\u001b[0;34m(self, key, indexer, axis, raise_missing)\u001b[0m\n\u001b[1;32m   1314\u001b[0m             \u001b[0;32mif\u001b[0m \u001b[0mraise_missing\u001b[0m\u001b[0;34m:\u001b[0m\u001b[0;34m\u001b[0m\u001b[0;34m\u001b[0m\u001b[0m\n\u001b[1;32m   1315\u001b[0m                 \u001b[0mnot_found\u001b[0m \u001b[0;34m=\u001b[0m \u001b[0mlist\u001b[0m\u001b[0;34m(\u001b[0m\u001b[0mset\u001b[0m\u001b[0;34m(\u001b[0m\u001b[0mkey\u001b[0m\u001b[0;34m)\u001b[0m \u001b[0;34m-\u001b[0m \u001b[0mset\u001b[0m\u001b[0;34m(\u001b[0m\u001b[0max\u001b[0m\u001b[0;34m)\u001b[0m\u001b[0;34m)\u001b[0m\u001b[0;34m\u001b[0m\u001b[0;34m\u001b[0m\u001b[0m\n\u001b[0;32m-> 1316\u001b[0;31m                 \u001b[0;32mraise\u001b[0m \u001b[0mKeyError\u001b[0m\u001b[0;34m(\u001b[0m\u001b[0;34mf\"{not_found} not in index\"\u001b[0m\u001b[0;34m)\u001b[0m\u001b[0;34m\u001b[0m\u001b[0;34m\u001b[0m\u001b[0m\n\u001b[0m\u001b[1;32m   1317\u001b[0m \u001b[0;34m\u001b[0m\u001b[0m\n\u001b[1;32m   1318\u001b[0m             \u001b[0mnot_found\u001b[0m \u001b[0;34m=\u001b[0m \u001b[0mkey\u001b[0m\u001b[0;34m[\u001b[0m\u001b[0mmissing_mask\u001b[0m\u001b[0;34m]\u001b[0m\u001b[0;34m\u001b[0m\u001b[0;34m\u001b[0m\u001b[0m\n",
      "\u001b[0;31mKeyError\u001b[0m: '[0] not in index'"
     ]
    }
   ],
   "source": [
    "df[[10,2 30]]"
   ]
  },
  {
   "cell_type": "code",
   "execution_count": null,
   "id": "080ba080",
   "metadata": {},
   "outputs": [],
   "source": []
  }
 ],
 "metadata": {
  "kernelspec": {
   "display_name": "Python 3",
   "language": "python",
   "name": "python3"
  },
  "language_info": {
   "codemirror_mode": {
    "name": "ipython",
    "version": 3
   },
   "file_extension": ".py",
   "mimetype": "text/x-python",
   "name": "python",
   "nbconvert_exporter": "python",
   "pygments_lexer": "ipython3",
   "version": "3.8.8"
  }
 },
 "nbformat": 4,
 "nbformat_minor": 5
}
