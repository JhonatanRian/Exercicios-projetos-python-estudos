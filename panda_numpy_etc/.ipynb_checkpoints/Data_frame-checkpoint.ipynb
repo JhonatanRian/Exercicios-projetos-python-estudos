{
 "cells": [
  {
   "cell_type": "code",
   "execution_count": 2,
   "id": "7d203ca6",
   "metadata": {},
   "outputs": [],
   "source": [
    "import pandas as pd\n",
    "import numpy as np"
   ]
  },
  {
   "cell_type": "code",
   "execution_count": 3,
   "id": "e86b8eda",
   "metadata": {},
   "outputs": [],
   "source": [
    "series = pd.Series([5, 3, 7, 3, 2, 7, 8, 9])"
   ]
  },
  {
   "cell_type": "code",
   "execution_count": 4,
   "id": "fb83bcea",
   "metadata": {},
   "outputs": [
    {
     "data": {
      "text/plain": [
       "0    5\n",
       "1    3\n",
       "2    7\n",
       "3    3\n",
       "4    2\n",
       "5    7\n",
       "6    8\n",
       "7    9\n",
       "dtype: int64"
      ]
     },
     "execution_count": 4,
     "metadata": {},
     "output_type": "execute_result"
    }
   ],
   "source": [
    "series"
   ]
  },
  {
   "cell_type": "code",
   "execution_count": 5,
   "id": "5eb79ef0",
   "metadata": {},
   "outputs": [
    {
     "data": {
      "text/plain": [
       "DatetimeIndex(['2018-01-01', '2018-01-02', '2018-01-03', '2018-01-04',\n",
       "               '2018-01-05', '2018-01-06'],\n",
       "              dtype='datetime64[ns]', freq='D')"
      ]
     },
     "execution_count": 5,
     "metadata": {},
     "output_type": "execute_result"
    }
   ],
   "source": [
    "datas = pd.date_range('20180101', periods=6)\n",
    "datas"
   ]
  },
  {
   "cell_type": "code",
   "execution_count": 7,
   "id": "31faddd6",
   "metadata": {
    "scrolled": true
   },
   "outputs": [],
   "source": [
    "df = pd.DataFrame(np.random.randn(6, 4), index = datas, columns = list(\"ABCD\")"
   ]
  },
  {
   "cell_type": "code",
   "execution_count": 8,
   "id": "da511552",
   "metadata": {},
   "outputs": [
    {
     "data": {
      "text/html": [
       "<div>\n",
       "<style scoped>\n",
       "    .dataframe tbody tr th:only-of-type {\n",
       "        vertical-align: middle;\n",
       "    }\n",
       "\n",
       "    .dataframe tbody tr th {\n",
       "        vertical-align: top;\n",
       "    }\n",
       "\n",
       "    .dataframe thead th {\n",
       "        text-align: right;\n",
       "    }\n",
       "</style>\n",
       "<table border=\"1\" class=\"dataframe\">\n",
       "  <thead>\n",
       "    <tr style=\"text-align: right;\">\n",
       "      <th></th>\n",
       "      <th>A</th>\n",
       "      <th>B</th>\n",
       "      <th>C</th>\n",
       "      <th>D</th>\n",
       "    </tr>\n",
       "  </thead>\n",
       "  <tbody>\n",
       "    <tr>\n",
       "      <th>2018-01-01</th>\n",
       "      <td>-0.114067</td>\n",
       "      <td>-0.841748</td>\n",
       "      <td>0.205095</td>\n",
       "      <td>-1.018307</td>\n",
       "    </tr>\n",
       "    <tr>\n",
       "      <th>2018-01-02</th>\n",
       "      <td>2.266647</td>\n",
       "      <td>1.475944</td>\n",
       "      <td>0.283845</td>\n",
       "      <td>-0.938181</td>\n",
       "    </tr>\n",
       "    <tr>\n",
       "      <th>2018-01-03</th>\n",
       "      <td>0.264383</td>\n",
       "      <td>-1.166590</td>\n",
       "      <td>-0.496857</td>\n",
       "      <td>1.181318</td>\n",
       "    </tr>\n",
       "    <tr>\n",
       "      <th>2018-01-04</th>\n",
       "      <td>1.975808</td>\n",
       "      <td>1.190942</td>\n",
       "      <td>-0.577603</td>\n",
       "      <td>1.109360</td>\n",
       "    </tr>\n",
       "    <tr>\n",
       "      <th>2018-01-05</th>\n",
       "      <td>-0.125601</td>\n",
       "      <td>-0.309080</td>\n",
       "      <td>-0.740032</td>\n",
       "      <td>0.414750</td>\n",
       "    </tr>\n",
       "    <tr>\n",
       "      <th>2018-01-06</th>\n",
       "      <td>-1.153154</td>\n",
       "      <td>-0.740354</td>\n",
       "      <td>0.612552</td>\n",
       "      <td>-0.345895</td>\n",
       "    </tr>\n",
       "  </tbody>\n",
       "</table>\n",
       "</div>"
      ],
      "text/plain": [
       "                   A         B         C         D\n",
       "2018-01-01 -0.114067 -0.841748  0.205095 -1.018307\n",
       "2018-01-02  2.266647  1.475944  0.283845 -0.938181\n",
       "2018-01-03  0.264383 -1.166590 -0.496857  1.181318\n",
       "2018-01-04  1.975808  1.190942 -0.577603  1.109360\n",
       "2018-01-05 -0.125601 -0.309080 -0.740032  0.414750\n",
       "2018-01-06 -1.153154 -0.740354  0.612552 -0.345895"
      ]
     },
     "execution_count": 8,
     "metadata": {},
     "output_type": "execute_result"
    }
   ],
   "source": [
    "df"
   ]
  },
  {
   "cell_type": "code",
   "execution_count": 14,
   "id": "7b09e594",
   "metadata": {},
   "outputs": [],
   "source": [
    "df2 = pd.DataFrame({\"A\":7,\n",
    "                    \"b\": pd.Timestamp('20190101'),\n",
    "                    \"C\": pd.Series(1, index=list(range(4)), dtype='float32'),\n",
    "                    \"D\": np.array([3] * 4, dtype='int32'),\n",
    "                    \"E\": pd.Categorical(['test', 'train', 'test', 'train']),\n",
    "                    \"F\": 'Python'})"
   ]
  },
  {
   "cell_type": "code",
   "execution_count": 15,
   "id": "fa9cb15d",
   "metadata": {},
   "outputs": [
    {
     "data": {
      "text/html": [
       "<div>\n",
       "<style scoped>\n",
       "    .dataframe tbody tr th:only-of-type {\n",
       "        vertical-align: middle;\n",
       "    }\n",
       "\n",
       "    .dataframe tbody tr th {\n",
       "        vertical-align: top;\n",
       "    }\n",
       "\n",
       "    .dataframe thead th {\n",
       "        text-align: right;\n",
       "    }\n",
       "</style>\n",
       "<table border=\"1\" class=\"dataframe\">\n",
       "  <thead>\n",
       "    <tr style=\"text-align: right;\">\n",
       "      <th></th>\n",
       "      <th>A</th>\n",
       "      <th>b</th>\n",
       "      <th>C</th>\n",
       "      <th>D</th>\n",
       "      <th>E</th>\n",
       "      <th>F</th>\n",
       "    </tr>\n",
       "  </thead>\n",
       "  <tbody>\n",
       "    <tr>\n",
       "      <th>0</th>\n",
       "      <td>7</td>\n",
       "      <td>2019-01-01</td>\n",
       "      <td>1.0</td>\n",
       "      <td>3</td>\n",
       "      <td>test</td>\n",
       "      <td>Python</td>\n",
       "    </tr>\n",
       "    <tr>\n",
       "      <th>1</th>\n",
       "      <td>7</td>\n",
       "      <td>2019-01-01</td>\n",
       "      <td>1.0</td>\n",
       "      <td>3</td>\n",
       "      <td>train</td>\n",
       "      <td>Python</td>\n",
       "    </tr>\n",
       "    <tr>\n",
       "      <th>2</th>\n",
       "      <td>7</td>\n",
       "      <td>2019-01-01</td>\n",
       "      <td>1.0</td>\n",
       "      <td>3</td>\n",
       "      <td>test</td>\n",
       "      <td>Python</td>\n",
       "    </tr>\n",
       "    <tr>\n",
       "      <th>3</th>\n",
       "      <td>7</td>\n",
       "      <td>2019-01-01</td>\n",
       "      <td>1.0</td>\n",
       "      <td>3</td>\n",
       "      <td>train</td>\n",
       "      <td>Python</td>\n",
       "    </tr>\n",
       "  </tbody>\n",
       "</table>\n",
       "</div>"
      ],
      "text/plain": [
       "   A          b    C  D      E       F\n",
       "0  7 2019-01-01  1.0  3   test  Python\n",
       "1  7 2019-01-01  1.0  3  train  Python\n",
       "2  7 2019-01-01  1.0  3   test  Python\n",
       "3  7 2019-01-01  1.0  3  train  Python"
      ]
     },
     "execution_count": 15,
     "metadata": {},
     "output_type": "execute_result"
    }
   ],
   "source": [
    "df2"
   ]
  },
  {
   "cell_type": "code",
   "execution_count": null,
   "id": "4c2b61e2",
   "metadata": {},
   "outputs": [],
   "source": []
  }
 ],
 "metadata": {
  "kernelspec": {
   "display_name": "Python 3",
   "language": "python",
   "name": "python3"
  },
  "language_info": {
   "codemirror_mode": {
    "name": "ipython",
    "version": 3
   },
   "file_extension": ".py",
   "mimetype": "text/x-python",
   "name": "python",
   "nbconvert_exporter": "python",
   "pygments_lexer": "ipython3",
   "version": "3.8.8"
  }
 },
 "nbformat": 4,
 "nbformat_minor": 5
}
