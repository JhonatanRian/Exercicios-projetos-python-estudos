{
 "cells": [
  {
   "cell_type": "code",
   "execution_count": 1,
   "id": "8032c623",
   "metadata": {},
   "outputs": [],
   "source": [
    "import pandas as pd\n",
    "import numpy as np"
   ]
  },
  {
   "cell_type": "code",
   "execution_count": 2,
   "id": "bd2689f8",
   "metadata": {},
   "outputs": [],
   "source": [
    "# Series a partir de listas"
   ]
  },
  {
   "cell_type": "code",
   "execution_count": 9,
   "id": "ef1f5891",
   "metadata": {},
   "outputs": [],
   "source": [
    "lista = [10, 20, 30, 40, 50,]"
   ]
  },
  {
   "cell_type": "code",
   "execution_count": 10,
   "id": "fb87c3fb",
   "metadata": {},
   "outputs": [],
   "source": [
    "series1 = pd.Series(lista)"
   ]
  },
  {
   "cell_type": "code",
   "execution_count": 13,
   "id": "3049d31d",
   "metadata": {},
   "outputs": [
    {
     "data": {
      "text/plain": [
       "0    10\n",
       "1    20\n",
       "2    30\n",
       "3    40\n",
       "4    50\n",
       "dtype: int64"
      ]
     },
     "execution_count": 13,
     "metadata": {},
     "output_type": "execute_result"
    }
   ],
   "source": [
    "series1"
   ]
  },
  {
   "cell_type": "code",
   "execution_count": 15,
   "id": "26dc0a74",
   "metadata": {},
   "outputs": [
    {
     "data": {
      "text/plain": [
       "30"
      ]
     },
     "execution_count": 15,
     "metadata": {},
     "output_type": "execute_result"
    }
   ],
   "source": [
    "series1[2]"
   ]
  },
  {
   "cell_type": "code",
   "execution_count": 5,
   "id": "e8539173",
   "metadata": {},
   "outputs": [],
   "source": [
    "# Series a partir de dicionarios"
   ]
  },
  {
   "cell_type": "code",
   "execution_count": 6,
   "id": "d9bf7bd7",
   "metadata": {},
   "outputs": [],
   "source": [
    "dicionario = {'telefone1':9999999,'telfone2':888888,'telefone3':7777777,'telefone4':6666666}"
   ]
  },
  {
   "cell_type": "code",
   "execution_count": 16,
   "id": "2f0ffc0e",
   "metadata": {},
   "outputs": [],
   "source": [
    "series2 = pd.Series(dicionario)"
   ]
  },
  {
   "cell_type": "code",
   "execution_count": 17,
   "id": "9f7d9ac7",
   "metadata": {},
   "outputs": [
    {
     "data": {
      "text/plain": [
       "telefone1    9999999\n",
       "telfone2      888888\n",
       "telefone3    7777777\n",
       "telefone4    6666666\n",
       "dtype: int64"
      ]
     },
     "execution_count": 17,
     "metadata": {},
     "output_type": "execute_result"
    }
   ],
   "source": [
    "series2"
   ]
  },
  {
   "cell_type": "code",
   "execution_count": 18,
   "id": "683849cd",
   "metadata": {},
   "outputs": [
    {
     "data": {
      "text/plain": [
       "7777777"
      ]
     },
     "execution_count": 18,
     "metadata": {},
     "output_type": "execute_result"
    }
   ],
   "source": [
    "series2[2]"
   ]
  },
  {
   "cell_type": "code",
   "execution_count": 19,
   "id": "4d914fc9",
   "metadata": {},
   "outputs": [
    {
     "data": {
      "text/plain": [
       "7777777"
      ]
     },
     "execution_count": 19,
     "metadata": {},
     "output_type": "execute_result"
    }
   ],
   "source": [
    "series2['telefone3']"
   ]
  },
  {
   "cell_type": "code",
   "execution_count": 20,
   "id": "e05485e6",
   "metadata": {},
   "outputs": [],
   "source": [
    "# Series apartir de um array"
   ]
  },
  {
   "cell_type": "code",
   "execution_count": 21,
   "id": "3522fd85",
   "metadata": {},
   "outputs": [],
   "source": [
    "arr = np.array([10,20,30,40,50])"
   ]
  },
  {
   "cell_type": "code",
   "execution_count": 22,
   "id": "2acd22a9",
   "metadata": {},
   "outputs": [],
   "source": [
    "series3 = pd.Series(arr)"
   ]
  },
  {
   "cell_type": "code",
   "execution_count": 23,
   "id": "24d0eaed",
   "metadata": {},
   "outputs": [
    {
     "data": {
      "text/plain": [
       "0    10\n",
       "1    20\n",
       "2    30\n",
       "3    40\n",
       "4    50\n",
       "dtype: int64"
      ]
     },
     "execution_count": 23,
     "metadata": {},
     "output_type": "execute_result"
    }
   ],
   "source": [
    "series3"
   ]
  },
  {
   "cell_type": "code",
   "execution_count": 24,
   "id": "51fba2cc",
   "metadata": {},
   "outputs": [],
   "source": [
    "series4 = pd.Series([1, 2, 3, 4],index=['Brasil', 'USA', 'Argentina', 'Chile'])"
   ]
  },
  {
   "cell_type": "code",
   "execution_count": 26,
   "id": "b5e34581",
   "metadata": {},
   "outputs": [
    {
     "data": {
      "text/plain": [
       "Brasil       1\n",
       "USA          2\n",
       "Argentina    3\n",
       "Chile        4\n",
       "dtype: int64"
      ]
     },
     "execution_count": 26,
     "metadata": {},
     "output_type": "execute_result"
    }
   ],
   "source": [
    "series4"
   ]
  },
  {
   "cell_type": "code",
   "execution_count": 27,
   "id": "3ae92cc2",
   "metadata": {},
   "outputs": [],
   "source": [
    "lista = [1, 2, 3, 4]\n",
    "labels = ['Brasil', 'USA', 'Argentina', 'Chile']"
   ]
  },
  {
   "cell_type": "code",
   "execution_count": 33,
   "id": "1dee3c21",
   "metadata": {},
   "outputs": [],
   "source": [
    "series5 = pd.Series(data=lista, index=labels)"
   ]
  },
  {
   "cell_type": "code",
   "execution_count": 34,
   "id": "c0b670c0",
   "metadata": {},
   "outputs": [
    {
     "data": {
      "text/plain": [
       "Brasil       1\n",
       "USA          2\n",
       "Argentina    3\n",
       "Chile        4\n",
       "dtype: int64"
      ]
     },
     "execution_count": 34,
     "metadata": {},
     "output_type": "execute_result"
    }
   ],
   "source": [
    "series5"
   ]
  },
  {
   "cell_type": "code",
   "execution_count": 38,
   "id": "62e04605",
   "metadata": {},
   "outputs": [],
   "source": [
    "series6 = pd.Series(data=[2, 4, 6, 8],index=['Brasil', 'USA', 'Chile', 'Uruguai'])"
   ]
  },
  {
   "cell_type": "code",
   "execution_count": 37,
   "id": "f0f97e58",
   "metadata": {},
   "outputs": [
    {
     "data": {
      "text/plain": [
       "Brasil       2\n",
       "USA          4\n",
       "Argentina    6\n",
       "Chile        8\n",
       "dtype: int64"
      ]
     },
     "execution_count": 37,
     "metadata": {},
     "output_type": "execute_result"
    }
   ],
   "source": [
    "series6"
   ]
  },
  {
   "cell_type": "code",
   "execution_count": 39,
   "id": "157051a0",
   "metadata": {},
   "outputs": [
    {
     "data": {
      "text/plain": [
       "Argentina     NaN\n",
       "Brasil        3.0\n",
       "Chile        10.0\n",
       "USA           6.0\n",
       "Uruguai       NaN\n",
       "dtype: float64"
      ]
     },
     "execution_count": 39,
     "metadata": {},
     "output_type": "execute_result"
    }
   ],
   "source": [
    "series5 + series6"
   ]
  },
  {
   "cell_type": "code",
   "execution_count": null,
   "id": "ea71e167",
   "metadata": {},
   "outputs": [],
   "source": []
  }
 ],
 "metadata": {
  "kernelspec": {
   "display_name": "Python 3",
   "language": "python",
   "name": "python3"
  },
  "language_info": {
   "codemirror_mode": {
    "name": "ipython",
    "version": 3
   },
   "file_extension": ".py",
   "mimetype": "text/x-python",
   "name": "python",
   "nbconvert_exporter": "python",
   "pygments_lexer": "ipython3",
   "version": "3.8.8"
  }
 },
 "nbformat": 4,
 "nbformat_minor": 5
}
