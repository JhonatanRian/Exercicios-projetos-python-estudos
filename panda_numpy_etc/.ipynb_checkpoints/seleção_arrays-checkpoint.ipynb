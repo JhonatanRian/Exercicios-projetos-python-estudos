{
 "cells": [
  {
   "cell_type": "code",
   "execution_count": 1,
   "id": "8b0d3a35",
   "metadata": {},
   "outputs": [],
   "source": [
    "import numpy as np"
   ]
  },
  {
   "cell_type": "code",
   "execution_count": 2,
   "id": "31b63113",
   "metadata": {},
   "outputs": [],
   "source": [
    "cadastro = np.random.randint(15,51,size=(50,10))"
   ]
  },
  {
   "cell_type": "code",
   "execution_count": 3,
   "id": "5b3c27d4",
   "metadata": {},
   "outputs": [
    {
     "data": {
      "text/plain": [
       "array([[37, 48, 33, 30, 33, 16, 40, 32, 31, 30],\n",
       "       [20, 43, 42, 37, 25, 36, 47, 42, 33, 21],\n",
       "       [37, 33, 16, 29, 33, 25, 23, 40, 32, 41],\n",
       "       [19, 39, 17, 19, 35, 39, 49, 50, 29, 20],\n",
       "       [36, 26, 49, 16, 17, 23, 50, 36, 37, 31],\n",
       "       [19, 45, 18, 25, 36, 34, 38, 49, 20, 39],\n",
       "       [30, 45, 37, 31, 15, 45, 49, 39, 23, 22],\n",
       "       [26, 44, 21, 27, 25, 20, 34, 20, 37, 29],\n",
       "       [40, 49, 29, 15, 26, 48, 25, 46, 50, 25],\n",
       "       [39, 17, 44, 21, 15, 31, 40, 15, 41, 39],\n",
       "       [17, 49, 31, 31, 42, 44, 37, 18, 44, 43],\n",
       "       [26, 40, 27, 43, 40, 17, 27, 23, 20, 41],\n",
       "       [47, 34, 31, 16, 20, 44, 45, 20, 32, 21],\n",
       "       [32, 45, 24, 43, 15, 27, 46, 26, 50, 28],\n",
       "       [24, 43, 23, 49, 46, 36, 33, 15, 32, 37],\n",
       "       [16, 16, 37, 39, 45, 50, 37, 25, 38, 45],\n",
       "       [36, 31, 15, 35, 19, 49, 35, 49, 32, 32],\n",
       "       [22, 25, 27, 29, 40, 23, 17, 48, 49, 23],\n",
       "       [45, 47, 17, 45, 24, 34, 22, 16, 49, 25],\n",
       "       [43, 20, 32, 45, 32, 17, 20, 41, 38, 25],\n",
       "       [24, 48, 30, 47, 38, 16, 17, 26, 20, 27],\n",
       "       [27, 26, 17, 49, 34, 38, 41, 17, 40, 18],\n",
       "       [17, 50, 37, 40, 44, 15, 40, 46, 29, 30],\n",
       "       [32, 20, 22, 41, 42, 15, 21, 15, 20, 29],\n",
       "       [18, 48, 32, 17, 27, 21, 50, 32, 32, 30],\n",
       "       [45, 35, 16, 33, 35, 39, 44, 20, 48, 27],\n",
       "       [20, 21, 25, 30, 26, 45, 20, 43, 38, 22],\n",
       "       [21, 40, 24, 26, 38, 36, 16, 22, 49, 23],\n",
       "       [43, 17, 27, 19, 36, 39, 30, 33, 15, 34],\n",
       "       [37, 17, 39, 34, 17, 32, 30, 34, 25, 45],\n",
       "       [24, 16, 37, 47, 18, 50, 42, 40, 41, 47],\n",
       "       [36, 46, 30, 22, 31, 27, 29, 15, 35, 42],\n",
       "       [49, 43, 22, 47, 47, 33, 28, 24, 44, 18],\n",
       "       [25, 44, 17, 26, 37, 32, 38, 20, 43, 39],\n",
       "       [50, 30, 38, 47, 16, 39, 34, 31, 27, 47],\n",
       "       [24, 45, 25, 37, 18, 22, 43, 25, 40, 15],\n",
       "       [24, 31, 18, 25, 15, 30, 48, 15, 35, 44],\n",
       "       [15, 25, 21, 35, 27, 37, 45, 46, 37, 16],\n",
       "       [20, 39, 41, 15, 17, 41, 50, 27, 31, 25],\n",
       "       [19, 45, 21, 21, 18, 23, 49, 48, 39, 30],\n",
       "       [46, 41, 25, 23, 45, 47, 37, 39, 34, 32],\n",
       "       [20, 47, 40, 33, 15, 28, 49, 20, 47, 43],\n",
       "       [28, 22, 27, 44, 16, 21, 36, 27, 28, 16],\n",
       "       [28, 37, 19, 24, 41, 40, 18, 22, 23, 43],\n",
       "       [15, 30, 31, 16, 43, 23, 41, 15, 46, 28],\n",
       "       [47, 23, 49, 40, 47, 16, 23, 16, 43, 47],\n",
       "       [34, 19, 38, 19, 35, 32, 49, 50, 15, 46],\n",
       "       [44, 38, 30, 19, 48, 35, 32, 34, 16, 45],\n",
       "       [30, 24, 21, 42, 21, 46, 46, 28, 48, 28],\n",
       "       [34, 42, 34, 28, 48, 15, 39, 18, 45, 47]])"
      ]
     },
     "execution_count": 3,
     "metadata": {},
     "output_type": "execute_result"
    }
   ],
   "source": [
    "cadastro"
   ]
  },
  {
   "cell_type": "code",
   "execution_count": 4,
   "id": "c0806530",
   "metadata": {},
   "outputs": [],
   "source": [
    "cadastro_maior18 = cadastro > 21"
   ]
  },
  {
   "cell_type": "code",
   "execution_count": 6,
   "id": "10ca34dd",
   "metadata": {},
   "outputs": [
    {
     "data": {
      "text/plain": [
       "array([[ True,  True,  True,  True,  True, False,  True,  True,  True,\n",
       "         True],\n",
       "       [False,  True,  True,  True,  True,  True,  True,  True,  True,\n",
       "        False],\n",
       "       [ True,  True, False,  True,  True,  True,  True,  True,  True,\n",
       "         True],\n",
       "       [False,  True, False, False,  True,  True,  True,  True,  True,\n",
       "        False],\n",
       "       [ True,  True,  True, False, False,  True,  True,  True,  True,\n",
       "         True],\n",
       "       [False,  True, False,  True,  True,  True,  True,  True, False,\n",
       "         True],\n",
       "       [ True,  True,  True,  True, False,  True,  True,  True,  True,\n",
       "         True],\n",
       "       [ True,  True, False,  True,  True, False,  True, False,  True,\n",
       "         True],\n",
       "       [ True,  True,  True, False,  True,  True,  True,  True,  True,\n",
       "         True],\n",
       "       [ True, False,  True, False, False,  True,  True, False,  True,\n",
       "         True],\n",
       "       [False,  True,  True,  True,  True,  True,  True, False,  True,\n",
       "         True],\n",
       "       [ True,  True,  True,  True,  True, False,  True,  True, False,\n",
       "         True],\n",
       "       [ True,  True,  True, False, False,  True,  True, False,  True,\n",
       "        False],\n",
       "       [ True,  True,  True,  True, False,  True,  True,  True,  True,\n",
       "         True],\n",
       "       [ True,  True,  True,  True,  True,  True,  True, False,  True,\n",
       "         True],\n",
       "       [False, False,  True,  True,  True,  True,  True,  True,  True,\n",
       "         True],\n",
       "       [ True,  True, False,  True, False,  True,  True,  True,  True,\n",
       "         True],\n",
       "       [ True,  True,  True,  True,  True,  True, False,  True,  True,\n",
       "         True],\n",
       "       [ True,  True, False,  True,  True,  True,  True, False,  True,\n",
       "         True],\n",
       "       [ True, False,  True,  True,  True, False, False,  True,  True,\n",
       "         True],\n",
       "       [ True,  True,  True,  True,  True, False, False,  True, False,\n",
       "         True],\n",
       "       [ True,  True, False,  True,  True,  True,  True, False,  True,\n",
       "        False],\n",
       "       [False,  True,  True,  True,  True, False,  True,  True,  True,\n",
       "         True],\n",
       "       [ True, False,  True,  True,  True, False, False, False, False,\n",
       "         True],\n",
       "       [False,  True,  True, False,  True, False,  True,  True,  True,\n",
       "         True],\n",
       "       [ True,  True, False,  True,  True,  True,  True, False,  True,\n",
       "         True],\n",
       "       [False, False,  True,  True,  True,  True, False,  True,  True,\n",
       "         True],\n",
       "       [False,  True,  True,  True,  True,  True, False,  True,  True,\n",
       "         True],\n",
       "       [ True, False,  True, False,  True,  True,  True,  True, False,\n",
       "         True],\n",
       "       [ True, False,  True,  True, False,  True,  True,  True,  True,\n",
       "         True],\n",
       "       [ True, False,  True,  True, False,  True,  True,  True,  True,\n",
       "         True],\n",
       "       [ True,  True,  True,  True,  True,  True,  True, False,  True,\n",
       "         True],\n",
       "       [ True,  True,  True,  True,  True,  True,  True,  True,  True,\n",
       "        False],\n",
       "       [ True,  True, False,  True,  True,  True,  True, False,  True,\n",
       "         True],\n",
       "       [ True,  True,  True,  True, False,  True,  True,  True,  True,\n",
       "         True],\n",
       "       [ True,  True,  True,  True, False,  True,  True,  True,  True,\n",
       "        False],\n",
       "       [ True,  True, False,  True, False,  True,  True, False,  True,\n",
       "         True],\n",
       "       [False,  True, False,  True,  True,  True,  True,  True,  True,\n",
       "        False],\n",
       "       [False,  True,  True, False, False,  True,  True,  True,  True,\n",
       "         True],\n",
       "       [False,  True, False, False, False,  True,  True,  True,  True,\n",
       "         True],\n",
       "       [ True,  True,  True,  True,  True,  True,  True,  True,  True,\n",
       "         True],\n",
       "       [False,  True,  True,  True, False,  True,  True, False,  True,\n",
       "         True],\n",
       "       [ True,  True,  True,  True, False, False,  True,  True,  True,\n",
       "        False],\n",
       "       [ True,  True, False,  True,  True,  True, False,  True,  True,\n",
       "         True],\n",
       "       [False,  True,  True, False,  True,  True,  True, False,  True,\n",
       "         True],\n",
       "       [ True,  True,  True,  True,  True, False,  True, False,  True,\n",
       "         True],\n",
       "       [ True, False,  True, False,  True,  True,  True,  True, False,\n",
       "         True],\n",
       "       [ True,  True,  True, False,  True,  True,  True,  True, False,\n",
       "         True],\n",
       "       [ True,  True, False,  True, False,  True,  True,  True,  True,\n",
       "         True],\n",
       "       [ True,  True,  True,  True,  True, False,  True, False,  True,\n",
       "         True]])"
      ]
     },
     "execution_count": 6,
     "metadata": {},
     "output_type": "execute_result"
    }
   ],
   "source": [
    "cadastro_maior18"
   ]
  },
  {
   "cell_type": "code",
   "execution_count": 7,
   "id": "c867c87d",
   "metadata": {},
   "outputs": [
    {
     "data": {
      "text/plain": [
       "array([37, 48, 33, 30, 33, 40, 32, 31, 30, 43, 42, 37, 25, 36, 47, 42, 33,\n",
       "       37, 33, 29, 33, 25, 23, 40, 32, 41, 39, 35, 39, 49, 50, 29, 36, 26,\n",
       "       49, 23, 50, 36, 37, 31, 45, 25, 36, 34, 38, 49, 39, 30, 45, 37, 31,\n",
       "       45, 49, 39, 23, 22, 26, 44, 27, 25, 34, 37, 29, 40, 49, 29, 26, 48,\n",
       "       25, 46, 50, 25, 39, 44, 31, 40, 41, 39, 49, 31, 31, 42, 44, 37, 44,\n",
       "       43, 26, 40, 27, 43, 40, 27, 23, 41, 47, 34, 31, 44, 45, 32, 32, 45,\n",
       "       24, 43, 27, 46, 26, 50, 28, 24, 43, 23, 49, 46, 36, 33, 32, 37, 37,\n",
       "       39, 45, 50, 37, 25, 38, 45, 36, 31, 35, 49, 35, 49, 32, 32, 22, 25,\n",
       "       27, 29, 40, 23, 48, 49, 23, 45, 47, 45, 24, 34, 22, 49, 25, 43, 32,\n",
       "       45, 32, 41, 38, 25, 24, 48, 30, 47, 38, 26, 27, 27, 26, 49, 34, 38,\n",
       "       41, 40, 50, 37, 40, 44, 40, 46, 29, 30, 32, 22, 41, 42, 29, 48, 32,\n",
       "       27, 50, 32, 32, 30, 45, 35, 33, 35, 39, 44, 48, 27, 25, 30, 26, 45,\n",
       "       43, 38, 22, 40, 24, 26, 38, 36, 22, 49, 23, 43, 27, 36, 39, 30, 33,\n",
       "       34, 37, 39, 34, 32, 30, 34, 25, 45, 24, 37, 47, 50, 42, 40, 41, 47,\n",
       "       36, 46, 30, 22, 31, 27, 29, 35, 42, 49, 43, 22, 47, 47, 33, 28, 24,\n",
       "       44, 25, 44, 26, 37, 32, 38, 43, 39, 50, 30, 38, 47, 39, 34, 31, 27,\n",
       "       47, 24, 45, 25, 37, 22, 43, 25, 40, 24, 31, 25, 30, 48, 35, 44, 25,\n",
       "       35, 27, 37, 45, 46, 37, 39, 41, 41, 50, 27, 31, 25, 45, 23, 49, 48,\n",
       "       39, 30, 46, 41, 25, 23, 45, 47, 37, 39, 34, 32, 47, 40, 33, 28, 49,\n",
       "       47, 43, 28, 22, 27, 44, 36, 27, 28, 28, 37, 24, 41, 40, 22, 23, 43,\n",
       "       30, 31, 43, 23, 41, 46, 28, 47, 23, 49, 40, 47, 23, 43, 47, 34, 38,\n",
       "       35, 32, 49, 50, 46, 44, 38, 30, 48, 35, 32, 34, 45, 30, 24, 42, 46,\n",
       "       46, 28, 48, 28, 34, 42, 34, 28, 48, 39, 45, 47])"
      ]
     },
     "execution_count": 7,
     "metadata": {},
     "output_type": "execute_result"
    }
   ],
   "source": [
    "cadastro[cadastro_maior18]"
   ]
  },
  {
   "cell_type": "code",
   "execution_count": 10,
   "id": "805abfa3",
   "metadata": {},
   "outputs": [],
   "source": [
    "arr = cadastro[cadastro>21]"
   ]
  },
  {
   "cell_type": "code",
   "execution_count": 11,
   "id": "f1506f88",
   "metadata": {},
   "outputs": [
    {
     "data": {
      "text/plain": [
       "386"
      ]
     },
     "execution_count": 11,
     "metadata": {},
     "output_type": "execute_result"
    }
   ],
   "source": [
    "len(arr)"
   ]
  },
  {
   "cell_type": "code",
   "execution_count": 13,
   "id": "de4b7ced",
   "metadata": {},
   "outputs": [
    {
     "data": {
      "text/plain": [
       "386"
      ]
     },
     "execution_count": 13,
     "metadata": {},
     "output_type": "execute_result"
    }
   ],
   "source": [
    "cadastro_maior18.sum()"
   ]
  },
  {
   "cell_type": "code",
   "execution_count": 14,
   "id": "d1337f81",
   "metadata": {},
   "outputs": [],
   "source": [
    "condição = (cadastro>21)"
   ]
  },
  {
   "cell_type": "code",
   "execution_count": 15,
   "id": "8aeaad77",
   "metadata": {},
   "outputs": [],
   "source": [
    "extraido = np.extract(condição,cadastro)"
   ]
  },
  {
   "cell_type": "code",
   "execution_count": 16,
   "id": "145040d3",
   "metadata": {},
   "outputs": [
    {
     "data": {
      "text/plain": [
       "array([37, 48, 33, 30, 33, 40, 32, 31, 30, 43, 42, 37, 25, 36, 47, 42, 33,\n",
       "       37, 33, 29, 33, 25, 23, 40, 32, 41, 39, 35, 39, 49, 50, 29, 36, 26,\n",
       "       49, 23, 50, 36, 37, 31, 45, 25, 36, 34, 38, 49, 39, 30, 45, 37, 31,\n",
       "       45, 49, 39, 23, 22, 26, 44, 27, 25, 34, 37, 29, 40, 49, 29, 26, 48,\n",
       "       25, 46, 50, 25, 39, 44, 31, 40, 41, 39, 49, 31, 31, 42, 44, 37, 44,\n",
       "       43, 26, 40, 27, 43, 40, 27, 23, 41, 47, 34, 31, 44, 45, 32, 32, 45,\n",
       "       24, 43, 27, 46, 26, 50, 28, 24, 43, 23, 49, 46, 36, 33, 32, 37, 37,\n",
       "       39, 45, 50, 37, 25, 38, 45, 36, 31, 35, 49, 35, 49, 32, 32, 22, 25,\n",
       "       27, 29, 40, 23, 48, 49, 23, 45, 47, 45, 24, 34, 22, 49, 25, 43, 32,\n",
       "       45, 32, 41, 38, 25, 24, 48, 30, 47, 38, 26, 27, 27, 26, 49, 34, 38,\n",
       "       41, 40, 50, 37, 40, 44, 40, 46, 29, 30, 32, 22, 41, 42, 29, 48, 32,\n",
       "       27, 50, 32, 32, 30, 45, 35, 33, 35, 39, 44, 48, 27, 25, 30, 26, 45,\n",
       "       43, 38, 22, 40, 24, 26, 38, 36, 22, 49, 23, 43, 27, 36, 39, 30, 33,\n",
       "       34, 37, 39, 34, 32, 30, 34, 25, 45, 24, 37, 47, 50, 42, 40, 41, 47,\n",
       "       36, 46, 30, 22, 31, 27, 29, 35, 42, 49, 43, 22, 47, 47, 33, 28, 24,\n",
       "       44, 25, 44, 26, 37, 32, 38, 43, 39, 50, 30, 38, 47, 39, 34, 31, 27,\n",
       "       47, 24, 45, 25, 37, 22, 43, 25, 40, 24, 31, 25, 30, 48, 35, 44, 25,\n",
       "       35, 27, 37, 45, 46, 37, 39, 41, 41, 50, 27, 31, 25, 45, 23, 49, 48,\n",
       "       39, 30, 46, 41, 25, 23, 45, 47, 37, 39, 34, 32, 47, 40, 33, 28, 49,\n",
       "       47, 43, 28, 22, 27, 44, 36, 27, 28, 28, 37, 24, 41, 40, 22, 23, 43,\n",
       "       30, 31, 43, 23, 41, 46, 28, 47, 23, 49, 40, 47, 23, 43, 47, 34, 38,\n",
       "       35, 32, 49, 50, 46, 44, 38, 30, 48, 35, 32, 34, 45, 30, 24, 42, 46,\n",
       "       46, 28, 48, 28, 34, 42, 34, 28, 48, 39, 45, 47])"
      ]
     },
     "execution_count": 16,
     "metadata": {},
     "output_type": "execute_result"
    }
   ],
   "source": [
    "extraido"
   ]
  },
  {
   "cell_type": "code",
   "execution_count": null,
   "id": "5844a9b6",
   "metadata": {},
   "outputs": [],
   "source": []
  }
 ],
 "metadata": {
  "kernelspec": {
   "display_name": "Python 3",
   "language": "python",
   "name": "python3"
  },
  "language_info": {
   "codemirror_mode": {
    "name": "ipython",
    "version": 3
   },
   "file_extension": ".py",
   "mimetype": "text/x-python",
   "name": "python",
   "nbconvert_exporter": "python",
   "pygments_lexer": "ipython3",
   "version": "3.8.8"
  }
 },
 "nbformat": 4,
 "nbformat_minor": 5
}
